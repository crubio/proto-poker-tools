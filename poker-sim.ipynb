{
 "cells": [
  {
   "cell_type": "markdown",
   "id": "3f3a5ae3",
   "metadata": {},
   "source": [
    "# Poker Round Simulator\n",
    "\n",
    "This is a clean version of the poker simulator that works reliably in JupyterLab.\n",
    "\n",
    "**Features:**\n",
    "1. Traditional Poker Hands with joker support\n",
    "2. Exotic \"Illegal\" Hands like Rainbow Straight and Flush Five\n",
    "3. Mod Cards that modify gameplay\n",
    "4. Character Classes with unique abilities\n",
    "5. Multi-Round Tournament system\n",
    "\n",
    "Let's start by setting up the core components!"
   ]
  },
  {
   "cell_type": "code",
   "execution_count": 69,
   "id": "10fd8865",
   "metadata": {},
   "outputs": [
    {
     "name": "stdout",
     "output_type": "stream",
     "text": [
      "Welcome to the Poker Round Simulator!\n"
     ]
    }
   ],
   "source": [
    "# Import all necessary components\n",
    "# pylint: disable=import-error\n",
    "from pydantic import BaseModel, Field\n",
    "from typing import List, Optional, Dict, Tuple, Literal, Set, cast\n",
    "import random\n",
    "import enum\n",
    "from itertools import combinations\n",
    "\n",
    "print(\"Welcome to the Poker Round Simulator!\")"
   ]
  },
  {
   "cell_type": "code",
   "execution_count": 70,
   "id": "4ff5a711",
   "metadata": {},
   "outputs": [
    {
     "name": "stdout",
     "output_type": "stream",
     "text": [
      "Core data structures defined with type safety!\n",
      "Available character classes: [<CharacterClass.Warrior: 'Warrior'>, <CharacterClass.Rogue: 'Rogue'>, <CharacterClass.Mage: 'Mage'>, <CharacterClass.Cleric: 'Cleric'>, <CharacterClass.Bard: 'Bard'>, <CharacterClass.Wizard: 'Wizard'>, <CharacterClass.Jester: 'Jester'>, <CharacterClass.Pauper: 'Pauper'>, <CharacterClass.Knight: 'Knight'>]\n",
      "Available mod effects: [<ModCardEffects.Draw1: 'Draw1'>, <ModCardEffects.Draw2: 'Draw2'>, <ModCardEffects.Discard1: 'Discard1'>, <ModCardEffects.Discard2: 'Discard2'>, <ModCardEffects.Steal1: 'Steal1'>, <ModCardEffects.Steal2: 'Steal2'>, <ModCardEffects.SneakySwap: 'SneakySwap'>, <ModCardEffects.RoyalDividend: 'RoyalDividend'>, <ModCardEffects.GainChips: 'GainChips'>]\n"
     ]
    }
   ],
   "source": [
    "# Define core data structures with full type safety\n",
    "\n",
    "DEFAULT_STARTING_CHIPS = 50\n",
    "RANKS = [\"2\", \"3\", \"4\", \"5\", \"6\", \"7\", \"8\", \"9\", \"10\", \"J\", \"Q\", \"K\", \"A\"]\n",
    "SUITS = [\"S\", \"H\", \"D\", \"C\"]  # Using letters instead of symbols to avoid encoding issues\n",
    "\n",
    "class Rarity(str, enum.Enum):\n",
    "    Common = \"Common\"\n",
    "    Uncommon = \"Uncommon\"\n",
    "    Rare = \"Rare\"\n",
    "    Epic = \"Epic\"\n",
    "\n",
    "class CharacterClass(str, enum.Enum):\n",
    "    Warrior = \"Warrior\"\n",
    "    Rogue = \"Rogue\"\n",
    "    Mage = \"Mage\"\n",
    "    Cleric = \"Cleric\"\n",
    "    Bard = \"Bard\"\n",
    "    Wizard = \"Wizard\"\n",
    "    Jester = \"Jester\"\n",
    "    Pauper = \"Pauper\"\n",
    "    Knight = \"Knight\"\n",
    "\n",
    "class ModCardEffects(str, enum.Enum):\n",
    "    Draw1 = \"Draw1\"\n",
    "    Draw2 = \"Draw2\"\n",
    "    Discard1 = \"Discard1\"\n",
    "    Discard2 = \"Discard2\"\n",
    "    Steal1 = \"Steal1\"\n",
    "    Steal2 = \"Steal2\"\n",
    "    SneakySwap = \"SneakySwap\"\n",
    "    RoyalDividend = \"RoyalDividend\"\n",
    "    GainChips = \"GainChips\"\n",
    "\n",
    "class ModCardType(str, enum.Enum):\n",
    "    Player = \"player\"\n",
    "    Showdown = \"showdown\"\n",
    "    Payout = \"payout\"\n",
    "    Global = \"global\"\n",
    "\n",
    "class ModCardTypeFlavor(str, enum.Enum):\n",
    "    Pawn = \"Pawn\"\n",
    "    Knight = \"Knight\"\n",
    "    Rook = \"Rook\"\n",
    "    Queen = \"Queen\"\n",
    "\n",
    "class DeckType(str, enum.Enum):\n",
    "    Standard = \"Standard\"\n",
    "    Proletariat = \"Proletariat\"\n",
    "    Fibonacci = \"Fibonacci\"\n",
    "    Oddball = \"Oddball\"\n",
    "    EvenSteven = \"EvenSteven\"\n",
    "    SeeingRed = \"SeeingRed\"\n",
    "    DarkSoul = \"DarkSoul\"\n",
    "    Madness = \"Madness\"\n",
    "\n",
    "# Card types\n",
    "CardValue = str  # Format: \"{rank}{suit}\" or \"JOKER\"\n",
    "\n",
    "# Hand types\n",
    "HandType = Literal[\n",
    "    \"High Card\", \"One Pair\", \"Two Pair\", \"Three of a Kind\", \"Straight\", \n",
    "    \"Flush\", \"Full House\", \"Four of a Kind\", \"Straight Flush\", \"Royal Flush\",\n",
    "    \"Flush Four\", \"Sandwich Hand\", \"Odd Straight\", \"Even Straight\", \n",
    "    \"Skipping Straight\", \"Rainbow Straight\", \"Flush House\", \"Five of a Kind\", \"Flush Five\"\n",
    "]\n",
    "\n",
    "class ModCard(BaseModel):\n",
    "    name: str\n",
    "    description: str\n",
    "    effect: ModCardEffects\n",
    "    type: ModCardType\n",
    "    flavorType: ModCardTypeFlavor\n",
    "    rarity: Rarity\n",
    "    burnOnUse: Optional[bool] = False\n",
    "\n",
    "class PlayerCharacterCard(BaseModel):\n",
    "    name: str\n",
    "    char_class: CharacterClass\n",
    "    deck_modifier: Optional[str] = None\n",
    "    ability: str\n",
    "    starting_chips: int = DEFAULT_STARTING_CHIPS\n",
    "    description: Optional[str] = None\n",
    "\n",
    "print(\"Core data structures defined with type safety!\")\n",
    "print(f\"Available character classes: {list(CharacterClass)}\")\n",
    "print(f\"Available mod effects: {list(ModCardEffects)}\")"
   ]
  },
  {
   "cell_type": "code",
   "execution_count": 71,
   "id": "5dcb6e04",
   "metadata": {},
   "outputs": [
    {
     "name": "stdout",
     "output_type": "stream",
     "text": [
      "  - Full deck created with standard 52 cards + 2 jokers\n",
      "Real Deck: 54 cards\n",
      "Custom Decks: 7 decks created\n",
      "Custom player decks created with various custom rules:\n",
      "  - Madness: 58 cards\n",
      "    cards: ['2S', '2H', '2D', '2C', '3S', '3H', '3D', '3C', '4S', '4H', '4D', '4C', '5S', '5H', '5D', '5C', '6S', '6H', '6D', '6C', '7S', '7H', '7D', '7C', '8S', '8H', '8D', '8C', '9S', '9H', '9D', '9C', '10S', '10H', '10D', '10C', 'JS', 'JH', 'JD', 'JC', 'QS', 'QH', 'QD', 'QC', 'KS', 'KH', 'KD', 'KC', 'AS', 'AH', 'AD', 'AC', 'JOKER', 'JOKER', 'JOKER', 'JOKER', 'JOKER']...\n",
      "  - DarkSoul: 28 cards\n",
      "    cards: ['2S', '2C', '3S', '3C', '4S', '4C', '5S', '5C', '6S', '6C', '7S', '7C', '8S', '8C', '9S', '9C', '10S', '10C', 'JS', 'JC', 'QS', 'QC', 'KS', 'KC', 'AS', 'AC', 'JOKER']...\n",
      "  - SeeingRed: 28 cards\n",
      "    cards: ['2H', '2D', '3H', '3D', '4H', '4D', '5H', '5D', '6H', '6D', '7H', '7D', '8H', '8D', '9H', '9D', '10H', '10D', 'JH', 'JD', 'QH', 'QD', 'KH', 'KD', 'AH', 'AD', 'JOKER']...\n",
      "  - EvenSteven: 34 cards\n",
      "    cards: ['2S', '2H', '2D', '2C', '4S', '4H', '4D', '4C', '6S', '6H', '6D', '6C', '8S', '8H', '8D', '8C', '10S', '10H', '10D', '10C', 'JS', 'JH', 'JD', 'JC', 'QS', 'QH', 'QD', 'QC', 'KS', 'KH', 'KD', 'KC', 'JOKER']...\n",
      "  - Oddball: 34 cards\n",
      "    cards: ['3S', '3H', '3D', '3C', '5S', '5H', '5D', '5C', '7S', '7H', '7D', '7C', '9S', '9H', '9D', '9C', 'JS', 'JH', 'JD', 'JC', 'QS', 'QH', 'QD', 'QC', 'KS', 'KH', 'KD', 'KC', 'AS', 'AH', 'AD', 'AC', 'JOKER']...\n",
      "  - Fibonacci: 34 cards\n",
      "    cards: ['2S', '2H', '2D', '2C', '3S', '3H', '3D', '3C', '5S', '5H', '5D', '5C', '8S', '8H', '8D', '8C', 'JS', 'JH', 'JD', 'JC', 'QS', 'QH', 'QD', 'QC', 'KS', 'KH', 'KD', 'KC', 'AS', 'AH', 'AD', 'AC', 'JOKER']...\n",
      "  - Proletariat: 38 cards\n",
      "    cards: ['2S', '2H', '2D', '2C', '3S', '3H', '3D', '3C', '4S', '4H', '4D', '4C', '5S', '5H', '5D', '5C', '6S', '6H', '6D', '6C', '7S', '7H', '7D', '7C', '8S', '8H', '8D', '8C', '9S', '9H', '9D', '9C', '10S', '10H', '10D', '10C', 'JOKER']...\n",
      "Sample cards: ['2S', '2H', '2D', '2C', '3S', '3H', '3D', '3C', '4S', '4H']...\n",
      "\n",
      "Mod Deck: 3 cards\n",
      "  - Extra Draw (Rarity.Common): Draw 1 additional card\n",
      "  - Sneaky Swap (Rarity.Uncommon): Swap a card with opponent\n",
      "  - Royal Dividend (Rarity.Uncommon): Gain +3 chips\n",
      "\n",
      "Players: 3 characters\n",
      "  - Scruffy McMuffins (CharacterClass.Rogue): Steal 1 opponent card 2x per round\n",
      "  - Patches (CharacterClass.Jester): Blind money refunded\n",
      "  - Sir Whiskers (CharacterClass.Warrior): Reveal opponent card once per round\n"
     ]
    }
   ],
   "source": [
    "# Create game decks\n",
    "\n",
    "def create_real_deck() -> List[CardValue]:\n",
    "    \"\"\"Create a standard 52-card deck + 2 jokers.\"\"\"\n",
    "    \n",
    "    deck = []\n",
    "    for rank in RANKS:\n",
    "        for suit in SUITS:\n",
    "            deck.append(f\"{rank}{suit}\")\n",
    "    \n",
    "    # Add jokers\n",
    "    deck.extend([\"JOKER\", \"JOKER\"])\n",
    "    return deck\n",
    "\n",
    "def create_custom_deck(type: DeckType) -> List[CardValue]:\n",
    "    \"\"\"Create a custom deck with specific cards.\"\"\"\n",
    "\n",
    "    match type:\n",
    "        case DeckType.Proletariat:\n",
    "            # Only number cards + jokers & Aces - no face cards\n",
    "            deck = [f\"{rank}{suit}\" for rank in RANKS if rank not in [\"J\", \"Q\", \"K\", \"A\"] for suit in SUITS]\n",
    "            deck.extend([\"JOKER\", \"JOKER\"])\n",
    "            return deck\n",
    "        case DeckType.Fibonacci:\n",
    "            deck = [f\"{rank}{suit}\" for rank in RANKS for suit in SUITS if rank in [\"A\", \"1\", \"2\", \"3\", \"5\", \"8\", \"J\", \"Q\", \"K\"]]\n",
    "            deck.extend([\"JOKER\", \"JOKER\"])\n",
    "            return deck\n",
    "        case DeckType.Oddball:\n",
    "            deck = [f\"{rank}{suit}\" for rank in RANKS for suit in SUITS if rank in [\"A\", \"3\", \"5\", \"7\", \"9\", \"J\", \"Q\", \"K\"]]\n",
    "            deck.extend([\"JOKER\", \"JOKER\"])\n",
    "            return deck\n",
    "        case DeckType.EvenSteven:\n",
    "            deck = [f\"{rank}{suit}\" for rank in RANKS for suit in SUITS if rank in [\"2\", \"4\", \"6\", \"8\", \"10\", \"J\", \"Q\", \"K\"]]\n",
    "            deck.extend([\"JOKER\", \"JOKER\"])\n",
    "            return deck\n",
    "        case DeckType.SeeingRed:\n",
    "            # Only red suits + jokers\n",
    "            deck = [f\"{rank}{suit}\" for rank in RANKS for suit in SUITS if suit in [\"H\", \"D\"]]\n",
    "            deck.extend([\"JOKER\", \"JOKER\"])\n",
    "            return deck\n",
    "        case DeckType.DarkSoul:\n",
    "            # Only black suits + jokers\n",
    "            deck = [f\"{rank}{suit}\" for rank in RANKS for suit in SUITS if suit in [\"S\", \"C\"]]\n",
    "            deck.extend([\"JOKER\", \"JOKER\"])\n",
    "            return deck\n",
    "        case DeckType.Madness:\n",
    "            deck = create_real_deck()\n",
    "            # Add extra jokers for madness\n",
    "            deck.extend([\"JOKER\", \"JOKER\", \"JOKER\", \"JOKER\"])\n",
    "            return deck\n",
    "        case _:\n",
    "            return create_real_deck()\n",
    "\n",
    "# Create game data\n",
    "real_deck = create_real_deck()\n",
    "custom_decks = {\n",
    "    DeckType.Madness: create_custom_deck(DeckType.Madness),\n",
    "    DeckType.DarkSoul: create_custom_deck(DeckType.DarkSoul),\n",
    "    DeckType.SeeingRed: create_custom_deck(DeckType.SeeingRed),\n",
    "    DeckType.EvenSteven: create_custom_deck(DeckType.EvenSteven),\n",
    "    DeckType.Oddball: create_custom_deck(DeckType.Oddball),\n",
    "    DeckType.Fibonacci: create_custom_deck(DeckType.Fibonacci),\n",
    "    DeckType.Proletariat: create_custom_deck(DeckType.Proletariat)\n",
    "}\n",
    "\n",
    "mod_deck = [\n",
    "    ModCard(\n",
    "        name=\"Extra Draw\", \n",
    "        description=\"Draw 1 additional card\", \n",
    "        effect=ModCardEffects.Draw1, \n",
    "        type=ModCardType.Player, \n",
    "        flavorType=ModCardTypeFlavor.Pawn, \n",
    "        rarity=Rarity.Common\n",
    "    ),\n",
    "    ModCard(\n",
    "        name=\"Sneaky Swap\", \n",
    "        description=\"Swap a card with opponent\", \n",
    "        effect=ModCardEffects.SneakySwap, \n",
    "        type=ModCardType.Player, \n",
    "        flavorType=ModCardTypeFlavor.Pawn, \n",
    "        rarity=Rarity.Uncommon\n",
    "    ),\n",
    "    ModCard(\n",
    "        name=\"Royal Dividend\", \n",
    "        description=\"Gain +3 chips\", \n",
    "        effect=ModCardEffects.RoyalDividend, \n",
    "        type=ModCardType.Payout, \n",
    "        flavorType=ModCardTypeFlavor.Queen, \n",
    "        rarity=Rarity.Uncommon\n",
    "    )\n",
    "]\n",
    "\n",
    "players = [\n",
    "    PlayerCharacterCard(\n",
    "        name=\"Scruffy McMuffins\", \n",
    "        char_class=CharacterClass.Rogue, \n",
    "        deck_modifier=\"Normal\", \n",
    "        ability=\"Steal 1 opponent card 2x per round\"\n",
    "    ),\n",
    "    PlayerCharacterCard(\n",
    "        name=\"Patches\", \n",
    "        char_class=CharacterClass.Jester, \n",
    "        deck_modifier=\"Remove face cards\", \n",
    "        ability=\"Blind money refunded\"\n",
    "    ),\n",
    "    PlayerCharacterCard(\n",
    "        name=\"Sir Whiskers\", \n",
    "        char_class=CharacterClass.Warrior, \n",
    "        deck_modifier=\"Normal\", \n",
    "        ability=\"Reveal opponent card once per round\"\n",
    "    )\n",
    "]\n",
    "\n",
    "print(\"  - Full deck created with standard 52 cards + 2 jokers\")\n",
    "print(f\"Real Deck: {len(real_deck)} cards\")\n",
    "print(f\"Custom Decks: {len(custom_decks)} decks created\")\n",
    "\n",
    "print(\"Custom player decks created with various custom rules:\")\n",
    "for dtype, deck in custom_decks.items():\n",
    "    print(f\"  - {dtype.value}: {len(deck)} cards\")\n",
    "    print(f\"    cards: {deck[:-1]}...\")\n",
    "print(f\"Sample cards: {real_deck[:10]}...\")\n",
    "print(f\"\\nMod Deck: {len(mod_deck)} cards\")\n",
    "for mod in mod_deck:\n",
    "    print(f\"  - {mod.name} ({mod.rarity}): {mod.description}\")\n",
    "print(f\"\\nPlayers: {len(players)} characters\")\n",
    "for player in players:\n",
    "    print(f\"  - {player.name} ({player.char_class}): {player.ability}\")"
   ]
  },
  {
   "cell_type": "code",
   "execution_count": 72,
   "id": "37a53e3d",
   "metadata": {},
   "outputs": [
    {
     "name": "stdout",
     "output_type": "stream",
     "text": [
      "Hand evaluation functions loaded!\n",
      "Hand rankings (weakest to strongest): ['High Card', 'One Pair', 'Two Pair', 'Three of a Kind', 'Straight']...\n"
     ]
    }
   ],
   "source": [
    "# Hand evaluation functions\n",
    "\n",
    "def card_rank(card: CardValue) -> int:\n",
    "    \"\"\"Convert a card to its numeric rank.\"\"\"\n",
    "    if card == \"JOKER\":\n",
    "        return 0\n",
    "    \n",
    "    rank_str = card[:-1]  # Everything except last character (suit)\n",
    "    \n",
    "    if rank_str in [\"J\", \"Q\", \"K\", \"A\"]:\n",
    "        rank_map = {\"J\": 11, \"Q\": 12, \"K\": 13, \"A\": 14}\n",
    "        return rank_map[rank_str]\n",
    "    \n",
    "    return int(rank_str)\n",
    "\n",
    "def evaluate_standard_poker(hand: List[CardValue]) -> HandType:\n",
    "    \"\"\"Evaluate standard poker hands with joker support.\"\"\"\n",
    "    if len(hand) != 5:\n",
    "        raise ValueError(f\"Hand must contain exactly 5 cards, got {len(hand)}\")\n",
    "    \n",
    "    jokers = [card for card in hand if card == \"JOKER\"]\n",
    "    real_cards = [card for card in hand if card != \"JOKER\"]\n",
    "    num_jokers = len(jokers)\n",
    "    \n",
    "    if num_jokers == 0:\n",
    "        # No jokers - standard evaluation\n",
    "        suits = [card[-1] for card in hand]\n",
    "        ranks = [card_rank(card) for card in hand]\n",
    "        rank_counts = {}\n",
    "        \n",
    "        for r in ranks:\n",
    "            rank_counts[r] = rank_counts.get(r, 0) + 1\n",
    "        \n",
    "        sorted_ranks = sorted(ranks)\n",
    "        is_flush = len(set(suits)) == 1\n",
    "        is_straight = all(sorted_ranks[i+1] - sorted_ranks[i] == 1 for i in range(4))\n",
    "        \n",
    "        # Check hands in order of strength\n",
    "        if is_straight and is_flush:\n",
    "            if sorted_ranks == [10, 11, 12, 13, 14]:\n",
    "                return cast(HandType, \"Royal Flush\")\n",
    "            return cast(HandType, \"Straight Flush\")\n",
    "        \n",
    "        if 4 in rank_counts.values():\n",
    "            return cast(HandType, \"Four of a Kind\")\n",
    "        \n",
    "        if sorted(rank_counts.values()) == [2, 3]:\n",
    "            return cast(HandType, \"Full House\")\n",
    "        \n",
    "        if is_flush:\n",
    "            return cast(HandType, \"Flush\")\n",
    "        \n",
    "        if is_straight:\n",
    "            return cast(HandType, \"Straight\")\n",
    "        \n",
    "        if 3 in rank_counts.values():\n",
    "            return cast(HandType, \"Three of a Kind\")\n",
    "        \n",
    "        pair_count = sum(1 for count in rank_counts.values() if count == 2)\n",
    "        if pair_count == 2:\n",
    "            return cast(HandType, \"Two Pair\")\n",
    "        elif pair_count == 1:\n",
    "            return cast(HandType, \"One Pair\")\n",
    "        \n",
    "        return cast(HandType, \"High Card\")\n",
    "    else:\n",
    "        # With jokers - simplified evaluation\n",
    "        ranks = [card_rank(card) for card in real_cards]\n",
    "        rank_counts = {}\n",
    "        for r in ranks:\n",
    "            rank_counts[r] = rank_counts.get(r, 0) + 1\n",
    "        \n",
    "        # Use jokers to make best possible hand\n",
    "        for rank in set(ranks):\n",
    "            if rank_counts[rank] + num_jokers >= 4:\n",
    "                return cast(HandType, \"Four of a Kind\")\n",
    "        \n",
    "        for rank in set(ranks):\n",
    "            if rank_counts[rank] + num_jokers >= 3:\n",
    "                return cast(HandType, \"Three of a Kind\")\n",
    "        \n",
    "        for rank in set(ranks):\n",
    "            if rank_counts[rank] + num_jokers >= 2:\n",
    "                return cast(HandType, \"One Pair\")\n",
    "        \n",
    "        return cast(HandType, \"High Card\")\n",
    "\n",
    "# Hand ranking order\n",
    "HAND_RANK_ORDER = [\n",
    "    \"High Card\", \"One Pair\", \"Two Pair\", \"Three of a Kind\", \"Straight\", \n",
    "    \"Flush\", \"Full House\", \"Four of a Kind\", \"Straight Flush\", \"Royal Flush\",\n",
    "    \"Flush Four\", \"Sandwich Hand\", \"Odd Straight\", \"Even Straight\", \n",
    "    \"Skipping Straight\", \"Rainbow Straight\", \"Flush House\", \"Five of a Kind\", \"Flush Five\"\n",
    "]\n",
    "\n",
    "def get_hand_rank(hand_type: HandType) -> int:\n",
    "    \"\"\"Get numeric rank for comparison.\"\"\"\n",
    "    return HAND_RANK_ORDER.index(hand_type)\n",
    "\n",
    "print(\"Hand evaluation functions loaded!\")\n",
    "print(f\"Hand rankings (weakest to strongest): {HAND_RANK_ORDER[:5]}...\")"
   ]
  },
  {
   "cell_type": "code",
   "execution_count": 74,
   "id": "2672cf7b",
   "metadata": {},
   "outputs": [
    {
     "name": "stdout",
     "output_type": "stream",
     "text": [
      "Simulation function ready!\n",
      "Run the next cell to simulate a poker round!\n"
     ]
    }
   ],
   "source": [
    "# Main simulation function\n",
    "\n",
    "def simulate_one_round() -> Tuple[str, HandType, int]:\n",
    "    \"\"\"\n",
    "    Run one complete round of the poker simulation.\n",
    "    \n",
    "    Returns:\n",
    "        Tuple of (winner_name, winning_hand_type, points_earned)\n",
    "    \"\"\"\n",
    "    print(\"STARTING ROUND SIMULATION\")\n",
    "    print(\"=\" * 50)\n",
    "\n",
    "    print(\"Adding custom decks to the main deck...\")\n",
    "    print(f\"Custom decks added: Maddness, DarkSoul, Proletariat...\")\n",
    "    \n",
    "    # Initialize game state\n",
    "    current_real_deck = real_deck.copy()\n",
    "    # add custom decks to the current real deck\n",
    "    current_real_deck.extend(custom_decks[DeckType.Madness])\n",
    "    current_real_deck.extend(custom_decks[DeckType.DarkSoul])\n",
    "    current_real_deck.extend(custom_decks[DeckType.Proletariat])\n",
    "    random.shuffle(current_real_deck)\n",
    "    current_mod_deck = mod_deck.copy()\n",
    "    random.shuffle(current_mod_deck)\n",
    "\n",
    "    print(f\"Deck shuffled: {len(current_real_deck)} cards in play\")\n",
    "    \n",
    "    # Track player data\n",
    "    player_hands: Dict[str, List[CardValue]] = {}\n",
    "    player_mods: Dict[str, List[ModCard]] = {}\n",
    "    \n",
    "    print(\"\\nPHASE 1: DEALING HANDS\")\n",
    "    print(\"-\" * 30)\n",
    "    \n",
    "    # Deal cards to each player\n",
    "    for player in players:\n",
    "        # Deal real cards (5-8 cards)\n",
    "        num_real = min(random.randint(5, 8), len(current_real_deck))\n",
    "        real_cards = [current_real_deck.pop() for _ in range(num_real)]\n",
    "        \n",
    "        # Deal mod cards to fill hand\n",
    "        hand_size = 8\n",
    "        num_mod = max(0, hand_size - len(real_cards))\n",
    "        num_mod = min(num_mod, len(current_mod_deck))\n",
    "        mod_cards = [current_mod_deck.pop() for _ in range(num_mod)] if num_mod > 0 else []\n",
    "        \n",
    "        player_hands[player.name] = real_cards\n",
    "        player_mods[player.name] = mod_cards\n",
    "        \n",
    "        print(f\"{player.name} ({player.char_class}):\")\n",
    "        print(f\"  Real cards: {', '.join(real_cards[:8])}{'...' if len(real_cards) > 5 else ''}\")\n",
    "        print(f\"  Mod cards: {[mod.name for mod in mod_cards]}\")\n",
    "    \n",
    "    print(\"\\nPHASE 2: APPLYING MOD EFFECTS\")\n",
    "    print(\"-\" * 30)\n",
    "    \n",
    "    # Apply mod effects\n",
    "    for player in players:\n",
    "        for mod in player_mods[player.name]:\n",
    "            if mod.effect == ModCardEffects.Draw1 and current_real_deck:\n",
    "                drawn = current_real_deck.pop()\n",
    "                player_hands[player.name].append(drawn)\n",
    "                print(f\"  -> {player.name} draws {drawn} (Extra Draw)\")\n",
    "            elif mod.effect == ModCardEffects.SneakySwap:\n",
    "                # Simplified swap\n",
    "                other_players = [p for p in players if p.name != player.name]\n",
    "                if other_players and player_hands[player.name]:\n",
    "                    target = random.choice(other_players)\n",
    "                    if player_hands[target.name]:\n",
    "                        my_card = player_hands[player.name].pop()\n",
    "                        their_card = player_hands[target.name].pop()\n",
    "                        player_hands[player.name].append(their_card)\n",
    "                        player_hands[target.name].append(my_card)\n",
    "                        print(f\"  -> {player.name} swaps {my_card} <-> {their_card} with {target.name}\")\n",
    "    \n",
    "    print(\"\\nPHASE 3: CHARACTER ABILITIES\")\n",
    "    print(\"-\" * 30)\n",
    "    \n",
    "    # Apply character abilities\n",
    "    for player in players:\n",
    "        if player.char_class == CharacterClass.Rogue:\n",
    "            # Steal up to 2 cards\n",
    "            for steal_num in range(2):\n",
    "                targets = [p for p in players if p.name != player.name and player_hands[p.name]]\n",
    "                if targets:\n",
    "                    target = random.choice(targets)\n",
    "                    stolen_card = player_hands[target.name].pop()\n",
    "                    player_hands[player.name].append(stolen_card)\n",
    "                    print(f\"  -> {player.name} (Rogue) steals {stolen_card} from {target.name}\")\n",
    "        elif player.char_class == CharacterClass.Warrior:\n",
    "            # Reveal one opponent card\n",
    "            targets = [p for p in players if p.name != player.name and player_hands[p.name]]\n",
    "            if targets:\n",
    "                target = random.choice(targets)\n",
    "                revealed = random.choice(player_hands[target.name])\n",
    "                print(f\"  -> {player.name} (Warrior) reveals {target.name}'s {revealed}\")\n",
    "    \n",
    "    print(\"\\nPHASE 4: HAND EVALUATION\")\n",
    "    print(\"-\" * 30)\n",
    "    \n",
    "    # Evaluate best hands\n",
    "    player_best_hands: Dict[str, HandType] = {}\n",
    "    for player in players:\n",
    "        cards = player_hands[player.name]\n",
    "        best_hand = cast(HandType, \"High Card\")\n",
    "        \n",
    "        if len(cards) >= 5:\n",
    "            # Try all 5-card combinations\n",
    "            for combo in combinations(cards, 5):\n",
    "                hand_type = evaluate_standard_poker(list(combo))\n",
    "                if get_hand_rank(hand_type) > get_hand_rank(best_hand):\n",
    "                    best_hand = hand_type\n",
    "        \n",
    "        player_best_hands[player.name] = best_hand\n",
    "        print(f\"  {player.name}: {best_hand}\")\n",
    "    \n",
    "    # Determine winner\n",
    "    winner = max(player_best_hands, key=lambda x: get_hand_rank(player_best_hands[x]))\n",
    "    winner_hand = player_best_hands[winner]\n",
    "    \n",
    "    print(f\"\\nWINNER: {winner} with {winner_hand}!\")\n",
    "    \n",
    "    # Calculate points\n",
    "    high_tier_hands = {\"Flush Five\", \"Five of a Kind\"}\n",
    "    points_earned = 2 if winner_hand in high_tier_hands else 1\n",
    "    chips_earned = 0\n",
    "    \n",
    "    for mod in player_mods[winner]:\n",
    "        if mod.effect == ModCardEffects.RoyalDividend:\n",
    "            chips_earned += 3\n",
    "            print(f\"  {winner} gains +3 chips from {mod.name}\")\n",
    "    \n",
    "    print(f\"\\nROUND RESULTS:\")\n",
    "    print(f\"  Winner: {winner} (+{points_earned} points, +{chips_earned} bonus chips)\")\n",
    "    print(f\"  Winning Hand: {winner_hand}\")\n",
    "    \n",
    "    return winner, winner_hand, points_earned\n",
    "\n",
    "print(\"Simulation function ready!\")\n",
    "print(\"Run the next cell to simulate a poker round!\")"
   ]
  },
  {
   "cell_type": "code",
   "execution_count": 78,
   "id": "81a057f1",
   "metadata": {},
   "outputs": [
    {
     "name": "stdout",
     "output_type": "stream",
     "text": [
      "🎲 TESTING IMPROVED CARD DEALING SYSTEM\n",
      "==================================================\n",
      "STARTING ROUND SIMULATION\n",
      "==================================================\n",
      "Adding custom decks to the main deck...\n",
      "Custom decks added: Maddness, DarkSoul, Proletariat...\n",
      "Deck shuffled: 178 cards in play\n",
      "\n",
      "PHASE 1: DEALING HANDS\n",
      "------------------------------\n",
      "Scruffy McMuffins (CharacterClass.Rogue):\n",
      "  Real cards: 7C, JOKER, JOKER, 8H, 5D\n",
      "  Mod cards: ['Sneaky Swap', 'Royal Dividend', 'Extra Draw']\n",
      "Patches (CharacterClass.Jester):\n",
      "  Real cards: 10S, 3S, KC, 10D, 10D, AC, JS...\n",
      "  Mod cards: []\n",
      "Sir Whiskers (CharacterClass.Warrior):\n",
      "  Real cards: JC, 6C, 5H, 5C, 10C, 7C...\n",
      "  Mod cards: []\n",
      "\n",
      "PHASE 2: APPLYING MOD EFFECTS\n",
      "------------------------------\n",
      "  -> Scruffy McMuffins swaps 5D <-> 7C with Sir Whiskers\n",
      "  -> Scruffy McMuffins draws 9S (Extra Draw)\n",
      "\n",
      "PHASE 3: CHARACTER ABILITIES\n",
      "------------------------------\n",
      "  -> Scruffy McMuffins (Rogue) steals JS from Patches\n",
      "  -> Scruffy McMuffins (Rogue) steals AC from Patches\n",
      "  -> Sir Whiskers (Warrior) reveals Patches's 10D\n",
      "\n",
      "PHASE 4: HAND EVALUATION\n",
      "------------------------------\n",
      "  Scruffy McMuffins: Four of a Kind\n",
      "  Patches: Three of a Kind\n",
      "  Sir Whiskers: Three of a Kind\n",
      "\n",
      "WINNER: Scruffy McMuffins with Four of a Kind!\n",
      "  Scruffy McMuffins gains +3 chips from Royal Dividend\n",
      "\n",
      "ROUND RESULTS:\n",
      "  Winner: Scruffy McMuffins (+1 points, +3 bonus chips)\n",
      "  Winning Hand: Four of a Kind\n",
      "\n",
      "🏆 SIMULATION COMPLETE!\n",
      "Winner: Scruffy McMuffins with Four of a Kind (1 points)\n"
     ]
    }
   ],
   "source": [
    "# Test the improved simulation function\n",
    "\n",
    "print(\"🎲 TESTING IMPROVED CARD DEALING SYSTEM\")\n",
    "print(\"=\" * 50)\n",
    "\n",
    "# Run one round to see the improvements\n",
    "winner, hand, points = simulate_one_round()\n",
    "\n",
    "print(f\"\\n🏆 SIMULATION COMPLETE!\")\n",
    "print(f\"Winner: {winner} with {hand} ({points} points)\")"
   ]
  },
  {
   "cell_type": "code",
   "execution_count": null,
   "id": "e4250692",
   "metadata": {},
   "outputs": [
    {
     "name": "stdout",
     "output_type": "stream",
     "text": [
      "Enhanced card dealing system loaded!\n",
      "Configuration: 5-7 real cards, total hand size 8\n"
     ]
    }
   ],
   "source": [
    "# Improved card dealing system with configurable parameters\n",
    "\n",
    "# Game configuration constants\n",
    "MIN_REAL_CARDS = 1\n",
    "MAX_REAL_CARDS = 8\n",
    "TOTAL_HAND_SIZE = 8\n",
    "MAX_DISPLAY_CARDS = 6\n",
    "\n",
    "def deal_cards_to_players(\n",
    "    players: List[PlayerCharacterCard], \n",
    "    real_deck: List[CardValue], \n",
    "    mod_deck: List[ModCard]\n",
    ") -> Tuple[Dict[str, List[CardValue]], Dict[str, List[ModCard]]]:\n",
    "    \"\"\"\n",
    "    Deal cards to all players with balanced distribution.\n",
    "    \n",
    "    Args:\n",
    "        players: List of player character cards\n",
    "        real_deck: Shuffled real card deck \n",
    "        mod_deck: Shuffled mod card deck\n",
    "        \n",
    "    Returns:\n",
    "        Tuple of (player_hands, player_mods) dictionaries\n",
    "    \"\"\"\n",
    "    player_hands: Dict[str, List[CardValue]] = {}\n",
    "    player_mods: Dict[str, List[ModCard]] = {}\n",
    "    \n",
    "    # Pre-determine card distribution for fairness\n",
    "    card_distributions = []\n",
    "    for player in players:\n",
    "        # Each player gets between MIN_REAL_CARDS and MAX_REAL_CARDS real cards\n",
    "        num_real = random.randint(MIN_REAL_CARDS, MAX_REAL_CARDS)\n",
    "        num_mod = TOTAL_HAND_SIZE - num_real\n",
    "        card_distributions.append((player.name, num_real, num_mod))\n",
    "    \n",
    "    print(f\"Card distribution planned:\")\n",
    "    for name, num_real, num_mod in card_distributions:\n",
    "        print(f\"  {name}: {num_real} real + {num_mod} mod = {num_real + num_mod} total\")\n",
    "    \n",
    "    # Deal cards according to planned distribution\n",
    "    for player_name, num_real, num_mod in card_distributions:\n",
    "        # Safety check for deck availability\n",
    "        if len(real_deck) < num_real:\n",
    "            print(f\"⚠️  Warning: Not enough real cards for {player_name} ({len(real_deck)} available, {num_real} needed)\")\n",
    "            num_real = len(real_deck)\n",
    "            num_mod = TOTAL_HAND_SIZE - num_real  # Adjust mod cards to maintain hand size\n",
    "        \n",
    "        if len(mod_deck) < num_mod:\n",
    "            print(f\"⚠️  Warning: Not enough mod cards for {player_name} ({len(mod_deck)} available, {num_mod} needed)\")\n",
    "            num_mod = len(mod_deck)\n",
    "        \n",
    "        # Deal real cards\n",
    "        real_cards = [real_deck.pop() for _ in range(num_real)]\n",
    "        \n",
    "        # Deal mod cards\n",
    "        mod_cards = [mod_deck.pop() for _ in range(num_mod)]\n",
    "        \n",
    "        player_hands[player_name] = real_cards\n",
    "        player_mods[player_name] = mod_cards\n",
    "        \n",
    "        # Enhanced display with better formatting\n",
    "        real_cards_display = real_cards[:MAX_DISPLAY_CARDS]\n",
    "        real_cards_str = ', '.join(real_cards_display)\n",
    "        if len(real_cards) > MAX_DISPLAY_CARDS:\n",
    "            real_cards_str += f\" ... (+{len(real_cards) - MAX_DISPLAY_CARDS} more)\"\n",
    "        \n",
    "        mod_cards_str = [mod.name for mod in mod_cards]\n",
    "        \n",
    "        print(f\"✅ {player_name}:\")\n",
    "        print(f\"    Real cards ({len(real_cards)}): {real_cards_str}\")\n",
    "        print(f\"    Mod cards ({len(mod_cards)}): {mod_cards_str}\")\n",
    "        print(f\"    Total hand size: {len(real_cards) + len(mod_cards)}\")\n",
    "    \n",
    "    return player_hands, player_mods\n",
    "\n",
    "print(\"Enhanced card dealing system loaded!\")\n",
    "print(f\"Configuration: {MIN_REAL_CARDS}-{MAX_REAL_CARDS} real cards, total hand size {TOTAL_HAND_SIZE}\")"
   ]
  },
  {
   "cell_type": "code",
   "execution_count": 6,
   "id": "e9097807",
   "metadata": {},
   "outputs": [
    {
     "name": "stdout",
     "output_type": "stream",
     "text": [
      "Running a 10 round tournament...\n",
      "\n",
      "STARTING 10-ROUND TOURNAMENT\n",
      "============================================================\n",
      "\n",
      "ROUND 1/10\n",
      "----------------------------------------\n",
      "STARTING ROUND SIMULATION\n",
      "==================================================\n",
      "Adding custom decks to the main deck...\n",
      "Custom decks added: Maddness, DarkSoul, Proletariat...\n",
      "Deck shuffled: 178 cards in play\n",
      "\n",
      "PHASE 1: DEALING HANDS\n",
      "------------------------------\n",
      "Scruffy McMuffins (CharacterClass.Rogue):\n",
      "  Real cards: JC, 9H, 8D, 3S, 8S\n",
      "  Mod cards: ['Sneaky Swap', 'Royal Dividend', 'Extra Draw']\n",
      "Patches (CharacterClass.Jester):\n",
      "  Real cards: KC, 4S, 9D, AH, 4D, 3C, 6S...\n",
      "  Mod cards: []\n",
      "Sir Whiskers (CharacterClass.Warrior):\n",
      "  Real cards: 7C, 6C, 8H, 2S, 10H\n",
      "  Mod cards: []\n",
      "\n",
      "PHASE 2: APPLYING MOD EFFECTS\n",
      "------------------------------\n",
      "  -> Scruffy McMuffins swaps 8S <-> 10H with Sir Whiskers\n",
      "  -> Scruffy McMuffins draws 4C (Extra Draw)\n",
      "\n",
      "PHASE 3: CHARACTER ABILITIES\n",
      "------------------------------\n",
      "  -> Scruffy McMuffins (Rogue) steals 8S from Sir Whiskers\n",
      "  -> Scruffy McMuffins (Rogue) steals 2S from Sir Whiskers\n",
      "  -> Sir Whiskers (Warrior) reveals Patches's KC\n",
      "\n",
      "PHASE 4: HAND EVALUATION\n",
      "------------------------------\n",
      "  Scruffy McMuffins: One Pair\n",
      "  Patches: One Pair\n",
      "  Sir Whiskers: High Card\n",
      "\n",
      "WINNER: Scruffy McMuffins with One Pair!\n",
      "  Scruffy McMuffins gains +3 chips from Royal Dividend\n",
      "\n",
      "ROUND RESULTS:\n",
      "  Winner: Scruffy McMuffins (+1 points, +3 bonus chips)\n",
      "  Winning Hand: One Pair\n",
      "Round 1 Winner: Scruffy McMuffins (One Pair)\n",
      "\n",
      "ROUND 2/10\n",
      "----------------------------------------\n",
      "STARTING ROUND SIMULATION\n",
      "==================================================\n",
      "Adding custom decks to the main deck...\n",
      "Custom decks added: Maddness, DarkSoul, Proletariat...\n",
      "Deck shuffled: 178 cards in play\n",
      "\n",
      "PHASE 1: DEALING HANDS\n",
      "------------------------------\n",
      "Scruffy McMuffins (CharacterClass.Rogue):\n",
      "  Real cards: JOKER, 4D, 8S, 4C, 6S, JOKER, 9C...\n",
      "  Mod cards: ['Sneaky Swap']\n",
      "Patches (CharacterClass.Jester):\n",
      "  Real cards: 8C, 7D, 2D, 9H, JOKER, AC, 5C...\n",
      "  Mod cards: ['Royal Dividend']\n",
      "Sir Whiskers (CharacterClass.Warrior):\n",
      "  Real cards: 2S, 2H, JC, 4S, 9S, KD, JS...\n",
      "  Mod cards: ['Extra Draw']\n",
      "\n",
      "PHASE 2: APPLYING MOD EFFECTS\n",
      "------------------------------\n",
      "  -> Scruffy McMuffins swaps 9C <-> 5C with Patches\n",
      "  -> Sir Whiskers draws 4S (Extra Draw)\n",
      "\n",
      "PHASE 3: CHARACTER ABILITIES\n",
      "------------------------------\n",
      "  -> Scruffy McMuffins (Rogue) steals 9C from Patches\n",
      "  -> Scruffy McMuffins (Rogue) steals AC from Patches\n",
      "  -> Sir Whiskers (Warrior) reveals Scruffy McMuffins's 9C\n",
      "\n",
      "PHASE 4: HAND EVALUATION\n",
      "------------------------------\n",
      "  Scruffy McMuffins: Four of a Kind\n",
      "  Patches: One Pair\n",
      "  Sir Whiskers: Flush\n",
      "\n",
      "WINNER: Scruffy McMuffins with Four of a Kind!\n",
      "\n",
      "ROUND RESULTS:\n",
      "  Winner: Scruffy McMuffins (+1 points, +0 bonus chips)\n",
      "  Winning Hand: Four of a Kind\n",
      "Round 2 Winner: Scruffy McMuffins (Four of a Kind)\n",
      "\n",
      "ROUND 3/10\n",
      "----------------------------------------\n",
      "STARTING ROUND SIMULATION\n",
      "==================================================\n",
      "Adding custom decks to the main deck...\n",
      "Custom decks added: Maddness, DarkSoul, Proletariat...\n",
      "Deck shuffled: 178 cards in play\n",
      "\n",
      "PHASE 1: DEALING HANDS\n",
      "------------------------------\n",
      "Scruffy McMuffins (CharacterClass.Rogue):\n",
      "  Real cards: QC, 2H, 10C, 3S, 2C\n",
      "  Mod cards: ['Sneaky Swap', 'Extra Draw', 'Royal Dividend']\n",
      "Patches (CharacterClass.Jester):\n",
      "  Real cards: 3D, JS, 10H, 10H, 5S, KS, 2C...\n",
      "  Mod cards: []\n",
      "Sir Whiskers (CharacterClass.Warrior):\n",
      "  Real cards: 2H, JOKER, 6H, 2D, 9C, 2S, 5H...\n",
      "  Mod cards: []\n",
      "\n",
      "PHASE 2: APPLYING MOD EFFECTS\n",
      "------------------------------\n",
      "  -> Scruffy McMuffins swaps 2C <-> 2C with Patches\n",
      "  -> Scruffy McMuffins draws 4D (Extra Draw)\n",
      "\n",
      "PHASE 3: CHARACTER ABILITIES\n",
      "------------------------------\n",
      "  -> Scruffy McMuffins (Rogue) steals 5H from Sir Whiskers\n",
      "  -> Scruffy McMuffins (Rogue) steals 2S from Sir Whiskers\n",
      "  -> Sir Whiskers (Warrior) reveals Scruffy McMuffins's 2S\n",
      "\n",
      "PHASE 4: HAND EVALUATION\n",
      "------------------------------\n",
      "  Scruffy McMuffins: Three of a Kind\n",
      "  Patches: One Pair\n",
      "  Sir Whiskers: Three of a Kind\n",
      "\n",
      "WINNER: Scruffy McMuffins with Three of a Kind!\n",
      "  Scruffy McMuffins gains +3 chips from Royal Dividend\n",
      "\n",
      "ROUND RESULTS:\n",
      "  Winner: Scruffy McMuffins (+1 points, +3 bonus chips)\n",
      "  Winning Hand: Three of a Kind\n",
      "Round 3 Winner: Scruffy McMuffins (Three of a Kind)\n",
      "\n",
      "ROUND 4/10\n",
      "----------------------------------------\n",
      "STARTING ROUND SIMULATION\n",
      "==================================================\n",
      "Adding custom decks to the main deck...\n",
      "Custom decks added: Maddness, DarkSoul, Proletariat...\n",
      "Deck shuffled: 178 cards in play\n",
      "\n",
      "PHASE 1: DEALING HANDS\n",
      "------------------------------\n",
      "Scruffy McMuffins (CharacterClass.Rogue):\n",
      "  Real cards: 8S, 7D, 3H, 9C, 3S, 5H, 6S...\n",
      "  Mod cards: ['Extra Draw']\n",
      "Patches (CharacterClass.Jester):\n",
      "  Real cards: 8S, 6H, 6H, KS, 10S, JOKER, 8D, 6C...\n",
      "  Mod cards: []\n",
      "Sir Whiskers (CharacterClass.Warrior):\n",
      "  Real cards: QS, QS, AH, 9S, 8C, AC, 3H, 6C...\n",
      "  Mod cards: []\n",
      "\n",
      "PHASE 2: APPLYING MOD EFFECTS\n",
      "------------------------------\n",
      "  -> Scruffy McMuffins draws 10D (Extra Draw)\n",
      "\n",
      "PHASE 3: CHARACTER ABILITIES\n",
      "------------------------------\n",
      "  -> Scruffy McMuffins (Rogue) steals 6C from Sir Whiskers\n",
      "  -> Scruffy McMuffins (Rogue) steals 6C from Patches\n",
      "  -> Sir Whiskers (Warrior) reveals Scruffy McMuffins's 7D\n",
      "\n",
      "PHASE 4: HAND EVALUATION\n",
      "------------------------------\n",
      "  Scruffy McMuffins: Full House\n",
      "  Patches: Three of a Kind\n",
      "  Sir Whiskers: Two Pair\n",
      "\n",
      "WINNER: Scruffy McMuffins with Full House!\n",
      "\n",
      "ROUND RESULTS:\n",
      "  Winner: Scruffy McMuffins (+1 points, +0 bonus chips)\n",
      "  Winning Hand: Full House\n",
      "Round 4 Winner: Scruffy McMuffins (Full House)\n",
      "\n",
      "ROUND 5/10\n",
      "----------------------------------------\n",
      "STARTING ROUND SIMULATION\n",
      "==================================================\n",
      "Adding custom decks to the main deck...\n",
      "Custom decks added: Maddness, DarkSoul, Proletariat...\n",
      "Deck shuffled: 178 cards in play\n",
      "\n",
      "PHASE 1: DEALING HANDS\n",
      "------------------------------\n",
      "Scruffy McMuffins (CharacterClass.Rogue):\n",
      "  Real cards: 4C, QD, 2H, 9H, QS\n",
      "  Mod cards: ['Extra Draw', 'Sneaky Swap', 'Royal Dividend']\n",
      "Patches (CharacterClass.Jester):\n",
      "  Real cards: 6C, AS, JOKER, JH, JOKER, 3C, 7C, AC...\n",
      "  Mod cards: []\n",
      "Sir Whiskers (CharacterClass.Warrior):\n",
      "  Real cards: 4D, 9D, JD, 3H, 9D, 2S, 9H...\n",
      "  Mod cards: []\n",
      "\n",
      "PHASE 2: APPLYING MOD EFFECTS\n",
      "------------------------------\n",
      "  -> Scruffy McMuffins draws QH (Extra Draw)\n",
      "  -> Scruffy McMuffins swaps QH <-> 9H with Sir Whiskers\n",
      "\n",
      "PHASE 3: CHARACTER ABILITIES\n",
      "------------------------------\n",
      "  -> Scruffy McMuffins (Rogue) steals AC from Patches\n",
      "  -> Scruffy McMuffins (Rogue) steals QH from Sir Whiskers\n",
      "  -> Sir Whiskers (Warrior) reveals Patches's 3C\n",
      "\n",
      "PHASE 4: HAND EVALUATION\n",
      "------------------------------\n",
      "  Scruffy McMuffins: Full House\n",
      "  Patches: Three of a Kind\n",
      "  Sir Whiskers: One Pair\n",
      "\n",
      "WINNER: Scruffy McMuffins with Full House!\n",
      "  Scruffy McMuffins gains +3 chips from Royal Dividend\n",
      "\n",
      "ROUND RESULTS:\n",
      "  Winner: Scruffy McMuffins (+1 points, +3 bonus chips)\n",
      "  Winning Hand: Full House\n",
      "Round 5 Winner: Scruffy McMuffins (Full House)\n",
      "\n",
      "ROUND 6/10\n",
      "----------------------------------------\n",
      "STARTING ROUND SIMULATION\n",
      "==================================================\n",
      "Adding custom decks to the main deck...\n",
      "Custom decks added: Maddness, DarkSoul, Proletariat...\n",
      "Deck shuffled: 178 cards in play\n",
      "\n",
      "PHASE 1: DEALING HANDS\n",
      "------------------------------\n",
      "Scruffy McMuffins (CharacterClass.Rogue):\n",
      "  Real cards: 7D, 5C, 2H, 4C, 7H, AD, 9S, 2H...\n",
      "  Mod cards: []\n",
      "Patches (CharacterClass.Jester):\n",
      "  Real cards: 5D, 3C, 8C, 5C, 5D, 3D...\n",
      "  Mod cards: ['Sneaky Swap', 'Royal Dividend']\n",
      "Sir Whiskers (CharacterClass.Warrior):\n",
      "  Real cards: 2S, 2S, 8S, 9D, 6S, 10S, 9S, QH...\n",
      "  Mod cards: []\n",
      "\n",
      "PHASE 2: APPLYING MOD EFFECTS\n",
      "------------------------------\n",
      "  -> Patches swaps 3D <-> 2H with Scruffy McMuffins\n",
      "\n",
      "PHASE 3: CHARACTER ABILITIES\n",
      "------------------------------\n",
      "  -> Scruffy McMuffins (Rogue) steals QH from Sir Whiskers\n",
      "  -> Scruffy McMuffins (Rogue) steals 2H from Patches\n",
      "  -> Sir Whiskers (Warrior) reveals Scruffy McMuffins's 2H\n",
      "\n",
      "PHASE 4: HAND EVALUATION\n",
      "------------------------------\n",
      "  Scruffy McMuffins: Two Pair\n",
      "  Patches: Three of a Kind\n",
      "  Sir Whiskers: Flush\n",
      "\n",
      "WINNER: Sir Whiskers with Flush!\n",
      "\n",
      "ROUND RESULTS:\n",
      "  Winner: Sir Whiskers (+1 points, +0 bonus chips)\n",
      "  Winning Hand: Flush\n",
      "Round 6 Winner: Sir Whiskers (Flush)\n",
      "\n",
      "ROUND 7/10\n",
      "----------------------------------------\n",
      "STARTING ROUND SIMULATION\n",
      "==================================================\n",
      "Adding custom decks to the main deck...\n",
      "Custom decks added: Maddness, DarkSoul, Proletariat...\n",
      "Deck shuffled: 178 cards in play\n",
      "\n",
      "PHASE 1: DEALING HANDS\n",
      "------------------------------\n",
      "Scruffy McMuffins (CharacterClass.Rogue):\n",
      "  Real cards: 3S, 4S, 5D, 8H, 9S, 2H, 2S...\n",
      "  Mod cards: ['Sneaky Swap']\n",
      "Patches (CharacterClass.Jester):\n",
      "  Real cards: JC, 9S, QD, KC, 2C, 2S, 4D, 5S...\n",
      "  Mod cards: []\n",
      "Sir Whiskers (CharacterClass.Warrior):\n",
      "  Real cards: 6D, QC, 9C, QS, KD, 2C...\n",
      "  Mod cards: ['Royal Dividend', 'Extra Draw']\n",
      "\n",
      "PHASE 2: APPLYING MOD EFFECTS\n",
      "------------------------------\n",
      "  -> Scruffy McMuffins swaps 2S <-> 2C with Sir Whiskers\n",
      "  -> Sir Whiskers draws 10C (Extra Draw)\n",
      "\n",
      "PHASE 3: CHARACTER ABILITIES\n",
      "------------------------------\n",
      "  -> Scruffy McMuffins (Rogue) steals 10C from Sir Whiskers\n",
      "  -> Scruffy McMuffins (Rogue) steals 2S from Sir Whiskers\n",
      "  -> Sir Whiskers (Warrior) reveals Scruffy McMuffins's 2C\n",
      "\n",
      "PHASE 4: HAND EVALUATION\n",
      "------------------------------\n",
      "  Scruffy McMuffins: Three of a Kind\n",
      "  Patches: One Pair\n",
      "  Sir Whiskers: One Pair\n",
      "\n",
      "WINNER: Scruffy McMuffins with Three of a Kind!\n",
      "\n",
      "ROUND RESULTS:\n",
      "  Winner: Scruffy McMuffins (+1 points, +0 bonus chips)\n",
      "  Winning Hand: Three of a Kind\n",
      "Round 7 Winner: Scruffy McMuffins (Three of a Kind)\n",
      "\n",
      "ROUND 8/10\n",
      "----------------------------------------\n",
      "STARTING ROUND SIMULATION\n",
      "==================================================\n",
      "Adding custom decks to the main deck...\n",
      "Custom decks added: Maddness, DarkSoul, Proletariat...\n",
      "Deck shuffled: 178 cards in play\n",
      "\n",
      "PHASE 1: DEALING HANDS\n",
      "------------------------------\n",
      "Scruffy McMuffins (CharacterClass.Rogue):\n",
      "  Real cards: 7S, JOKER, 9C, 6D, QD\n",
      "  Mod cards: ['Sneaky Swap', 'Royal Dividend', 'Extra Draw']\n",
      "Patches (CharacterClass.Jester):\n",
      "  Real cards: JH, 9D, 6C, 8S, 3C, AC, 8H...\n",
      "  Mod cards: []\n",
      "Sir Whiskers (CharacterClass.Warrior):\n",
      "  Real cards: 9C, 6H, 6S, 7S, 10S\n",
      "  Mod cards: []\n",
      "\n",
      "PHASE 2: APPLYING MOD EFFECTS\n",
      "------------------------------\n",
      "  -> Scruffy McMuffins swaps QD <-> 8H with Patches\n",
      "  -> Scruffy McMuffins draws AS (Extra Draw)\n",
      "\n",
      "PHASE 3: CHARACTER ABILITIES\n",
      "------------------------------\n",
      "  -> Scruffy McMuffins (Rogue) steals 10S from Sir Whiskers\n",
      "  -> Scruffy McMuffins (Rogue) steals QD from Patches\n",
      "  -> Sir Whiskers (Warrior) reveals Patches's 8S\n",
      "\n",
      "PHASE 4: HAND EVALUATION\n",
      "------------------------------\n",
      "  Scruffy McMuffins: Straight\n",
      "  Patches: High Card\n",
      "  Sir Whiskers: High Card\n",
      "\n",
      "WINNER: Scruffy McMuffins with Straight!\n",
      "  Scruffy McMuffins gains +3 chips from Royal Dividend\n",
      "\n",
      "ROUND RESULTS:\n",
      "  Winner: Scruffy McMuffins (+1 points, +3 bonus chips)\n",
      "  Winning Hand: Straight\n",
      "Round 8 Winner: Scruffy McMuffins (Straight)\n",
      "\n",
      "ROUND 9/10\n",
      "----------------------------------------\n",
      "STARTING ROUND SIMULATION\n",
      "==================================================\n",
      "Adding custom decks to the main deck...\n",
      "Custom decks added: Maddness, DarkSoul, Proletariat...\n",
      "Deck shuffled: 178 cards in play\n",
      "\n",
      "PHASE 1: DEALING HANDS\n",
      "------------------------------\n",
      "Scruffy McMuffins (CharacterClass.Rogue):\n",
      "  Real cards: 8C, JC, 7S, JOKER, 8H, 3D...\n",
      "  Mod cards: ['Extra Draw', 'Sneaky Swap']\n",
      "Patches (CharacterClass.Jester):\n",
      "  Real cards: 2H, 9C, JOKER, QD, 8D, 4C, 2S, 6C...\n",
      "  Mod cards: []\n",
      "Sir Whiskers (CharacterClass.Warrior):\n",
      "  Real cards: JD, KH, 10S, JH, 4D, 4C, AD, 4H...\n",
      "  Mod cards: []\n",
      "\n",
      "PHASE 2: APPLYING MOD EFFECTS\n",
      "------------------------------\n",
      "  -> Scruffy McMuffins draws AH (Extra Draw)\n",
      "  -> Scruffy McMuffins swaps AH <-> 6C with Patches\n",
      "\n",
      "PHASE 3: CHARACTER ABILITIES\n",
      "------------------------------\n",
      "  -> Scruffy McMuffins (Rogue) steals AH from Patches\n",
      "  -> Scruffy McMuffins (Rogue) steals 4H from Sir Whiskers\n",
      "  -> Sir Whiskers (Warrior) reveals Scruffy McMuffins's AH\n",
      "\n",
      "PHASE 4: HAND EVALUATION\n",
      "------------------------------\n",
      "  Scruffy McMuffins: Three of a Kind\n",
      "  Patches: Three of a Kind\n",
      "  Sir Whiskers: Two Pair\n",
      "\n",
      "WINNER: Scruffy McMuffins with Three of a Kind!\n",
      "\n",
      "ROUND RESULTS:\n",
      "  Winner: Scruffy McMuffins (+1 points, +0 bonus chips)\n",
      "  Winning Hand: Three of a Kind\n",
      "Round 9 Winner: Scruffy McMuffins (Three of a Kind)\n",
      "\n",
      "ROUND 10/10\n",
      "----------------------------------------\n",
      "STARTING ROUND SIMULATION\n",
      "==================================================\n",
      "Adding custom decks to the main deck...\n",
      "Custom decks added: Maddness, DarkSoul, Proletariat...\n",
      "Deck shuffled: 178 cards in play\n",
      "\n",
      "PHASE 1: DEALING HANDS\n",
      "------------------------------\n",
      "Scruffy McMuffins (CharacterClass.Rogue):\n",
      "  Real cards: 8D, 4S, KD, 3S, JC, AH, JS, 7S...\n",
      "  Mod cards: []\n",
      "Patches (CharacterClass.Jester):\n",
      "  Real cards: 4S, 2C, 7C, 3D, QS, 10C, KS...\n",
      "  Mod cards: ['Royal Dividend']\n",
      "Sir Whiskers (CharacterClass.Warrior):\n",
      "  Real cards: 10H, AC, 9C, 2H, 7S, JOKER, 6C...\n",
      "  Mod cards: ['Sneaky Swap']\n",
      "\n",
      "PHASE 2: APPLYING MOD EFFECTS\n",
      "------------------------------\n",
      "  -> Sir Whiskers swaps 6C <-> 7S with Scruffy McMuffins\n",
      "\n",
      "PHASE 3: CHARACTER ABILITIES\n",
      "------------------------------\n",
      "  -> Scruffy McMuffins (Rogue) steals KS from Patches\n",
      "  -> Scruffy McMuffins (Rogue) steals 7S from Sir Whiskers\n",
      "  -> Sir Whiskers (Warrior) reveals Patches's QS\n",
      "\n",
      "PHASE 4: HAND EVALUATION\n",
      "------------------------------\n",
      "  Scruffy McMuffins: Flush\n",
      "  Patches: High Card\n",
      "  Sir Whiskers: One Pair\n",
      "\n",
      "WINNER: Scruffy McMuffins with Flush!\n",
      "\n",
      "ROUND RESULTS:\n",
      "  Winner: Scruffy McMuffins (+1 points, +0 bonus chips)\n",
      "  Winning Hand: Flush\n",
      "Round 10 Winner: Scruffy McMuffins (Flush)\n",
      "\n",
      "TOURNAMENT RESULTS\n",
      "============================================================\n",
      "1st Scruffy McMuffins\n",
      "    Points: 9 | Wins: 9/10\n",
      "    Hands: One Pair, Four of a Kind, Three of a Kind, Full House, Full House, Three of a Kind, Straight, Three of a Kind, Flush\n",
      "\n",
      "2nd Sir Whiskers\n",
      "    Points: 1 | Wins: 1/10\n",
      "    Hands: Flush\n",
      "\n",
      "3rd Patches\n",
      "    Points: 0 | Wins: 0/10\n",
      "    Hands: \n",
      "\n",
      "TOURNAMENT CHAMPION: Scruffy McMuffins!\n",
      "\n",
      "Final Scores: {'Scruffy McMuffins': 9, 'Patches': 0, 'Sir Whiskers': 1}\n"
     ]
    }
   ],
   "source": [
    "# Run multiple rounds for a tournament\n",
    "\n",
    "def run_tournament(num_rounds: int = 10) -> Dict[str, int]:\n",
    "    \"\"\"Run a multi-round tournament.\"\"\"\n",
    "    print(f\"STARTING {num_rounds}-ROUND TOURNAMENT\")\n",
    "    print(\"=\" * 60)\n",
    "    \n",
    "    # Track player statistics\n",
    "    player_stats = {player.name: {\"wins\": 0, \"points\": 0, \"hands\": []} for player in players}\n",
    "    \n",
    "    # Run all rounds\n",
    "    for round_num in range(1, num_rounds + 1):\n",
    "        print(f\"\\nROUND {round_num}/{num_rounds}\")\n",
    "        print(\"-\" * 40)\n",
    "        \n",
    "        winner, hand_type, points = simulate_one_round()\n",
    "        \n",
    "        # Update statistics\n",
    "        player_stats[winner][\"wins\"] += 1\n",
    "        player_stats[winner][\"points\"] += points\n",
    "        player_stats[winner][\"hands\"].append(hand_type)\n",
    "        \n",
    "        print(f\"Round {round_num} Winner: {winner} ({hand_type})\")\n",
    "    \n",
    "    print(\"\\nTOURNAMENT RESULTS\")\n",
    "    print(\"=\" * 60)\n",
    "    \n",
    "    # Sort players by points\n",
    "    ranked_players = sorted(player_stats.items(), key=lambda x: x[1][\"points\"], reverse=True)\n",
    "    \n",
    "    # Display final standings\n",
    "    medals = [\"1st\", \"2nd\", \"3rd\"]\n",
    "    for rank, (name, stats) in enumerate(ranked_players):\n",
    "        medal = medals[rank] if rank < 3 else f\"{rank+1}th\"\n",
    "        print(f\"{medal} {name}\")\n",
    "        print(f\"    Points: {stats['points']} | Wins: {stats['wins']}/{num_rounds}\")\n",
    "        print(f\"    Hands: {', '.join(stats['hands'])}\")\n",
    "        print()\n",
    "    \n",
    "    champion = ranked_players[0][0]\n",
    "    print(f\"TOURNAMENT CHAMPION: {champion}!\")\n",
    "    \n",
    "    return {name: stats[\"points\"] for name, stats in player_stats.items()}\n",
    "\n",
    "# Run a 10-round tournament\n",
    "print(\"Running a 10 round tournament...\\n\")\n",
    "final_scores = run_tournament(10)\n",
    "\n",
    "print(f\"\\nFinal Scores: {final_scores}\")"
   ]
  },
  {
   "cell_type": "code",
   "execution_count": 7,
   "id": "eb8a8d00",
   "metadata": {},
   "outputs": [
    {
     "name": "stdout",
     "output_type": "stream",
     "text": [
      "Visualization libraries loaded!\n",
      "Available chart types: Bar, Pie, Scatter, Heatmap, and more!\n"
     ]
    }
   ],
   "source": [
    "# Import visualization libraries\n",
    "import plotly.express as px\n",
    "import plotly.graph_objects as go\n",
    "from plotly.subplots import make_subplots\n",
    "import pandas as pd\n",
    "\n",
    "print(\"Visualization libraries loaded!\")\n",
    "print(\"Available chart types: Bar, Pie, Scatter, Heatmap, and more!\")"
   ]
  },
  {
   "cell_type": "code",
   "execution_count": 8,
   "id": "cbeb81c1",
   "metadata": {},
   "outputs": [
    {
     "name": "stdout",
     "output_type": "stream",
     "text": [
      "Visualization functions created!\n",
      "Ready to generate beautiful charts from tournament data!\n"
     ]
    }
   ],
   "source": [
    "# Visualization functions\n",
    "def create_tournament_dashboard(tournament_data: Dict):\n",
    "    \"\"\"Create a comprehensive tournament dashboard with multiple visualizations.\"\"\"\n",
    "    \n",
    "    player_stats = tournament_data[\"player_stats\"]\n",
    "    round_results = tournament_data[\"round_results\"]\n",
    "    hand_frequency = tournament_data[\"hand_frequency\"]\n",
    "    num_rounds = tournament_data[\"num_rounds\"]\n",
    "    \n",
    "    # Prepare data for visualizations\n",
    "    player_names = list(player_stats.keys())\n",
    "    player_points = [player_stats[name][\"points\"] for name in player_names]\n",
    "    player_wins = [player_stats[name][\"wins\"] for name in player_names]\n",
    "    player_classes = [player_stats[name][\"character_class\"] for name in player_names]\n",
    "    \n",
    "    # Create subplots\n",
    "    fig = make_subplots(\n",
    "        rows=2, cols=2,\n",
    "        subplot_titles=(\n",
    "            \"Final Tournament Standings\", \n",
    "            \"Hand Type Distribution\",\n",
    "            \"Wins by Character Class\",\n",
    "            \"Round-by-Round Performance\"\n",
    "        ),\n",
    "        specs=[[{\"type\": \"bar\"}, {\"type\": \"pie\"}],\n",
    "               [{\"type\": \"bar\"}, {\"type\": \"scatter\"}]]\n",
    "    )\n",
    "    \n",
    "    # 1. Tournament Standings (Bar Chart)\n",
    "    fig.add_trace(\n",
    "        go.Bar(\n",
    "            x=player_names,\n",
    "            y=player_points,\n",
    "            name=\"Points\",\n",
    "            text=[f\"{pts} pts<br>{wins} wins\" for pts, wins in zip(player_points, player_wins)],\n",
    "            textposition=\"auto\",\n",
    "            marker_color=px.colors.qualitative.Set3[:len(player_names)]\n",
    "        ),\n",
    "        row=1, col=1\n",
    "    )\n",
    "    \n",
    "    # 2. Hand Distribution (Pie Chart)\n",
    "    fig.add_trace(\n",
    "        go.Pie(\n",
    "            labels=list(hand_frequency.keys()),\n",
    "            values=list(hand_frequency.values()),\n",
    "            name=\"Hand Types\"\n",
    "        ),\n",
    "        row=1, col=2\n",
    "    )\n",
    "    \n",
    "    # 3. Wins by Character Class (Bar Chart)\n",
    "    class_wins = {}\n",
    "    for name in player_names:\n",
    "        char_class = player_stats[name][\"character_class\"]\n",
    "        wins = player_stats[name][\"wins\"]\n",
    "        class_wins[char_class] = class_wins.get(char_class, 0) + wins\n",
    "    \n",
    "    fig.add_trace(\n",
    "        go.Bar(\n",
    "            x=list(class_wins.keys()),\n",
    "            y=list(class_wins.values()),\n",
    "            name=\"Class Wins\",\n",
    "            marker_color=px.colors.qualitative.Pastel1[:len(class_wins)]\n",
    "        ),\n",
    "        row=2, col=1\n",
    "    )\n",
    "    \n",
    "    # 4. Round Performance (Scatter Plot)\n",
    "    for i, name in enumerate(player_names):\n",
    "        rounds = list(range(1, num_rounds + 1))\n",
    "        cumulative_points = []\n",
    "        points_so_far = 0\n",
    "        \n",
    "        for round_result in round_results:\n",
    "            if round_result[\"winner\"] == name:\n",
    "                points_so_far += round_result[\"points\"]\n",
    "            cumulative_points.append(points_so_far)\n",
    "        \n",
    "        fig.add_trace(\n",
    "            go.Scatter(\n",
    "                x=rounds,\n",
    "                y=cumulative_points,\n",
    "                mode='lines+markers',\n",
    "                name=f\"{name}\",\n",
    "                line=dict(width=3),\n",
    "                marker=dict(size=8)\n",
    "            ),\n",
    "            row=2, col=2\n",
    "        )\n",
    "    \n",
    "    # Update layout\n",
    "    fig.update_layout(\n",
    "        height=800,\n",
    "        title_text=f\"🎲 Poker Tournament Dashboard - {num_rounds} Rounds\",\n",
    "        title_x=0.5,\n",
    "        showlegend=True,\n",
    "        template=\"plotly_white\"\n",
    "    )\n",
    "    \n",
    "    # Update axes labels\n",
    "    fig.update_xaxes(title_text=\"Players\", row=1, col=1)\n",
    "    fig.update_yaxes(title_text=\"Points\", row=1, col=1)\n",
    "    fig.update_xaxes(title_text=\"Character Class\", row=2, col=1)\n",
    "    fig.update_yaxes(title_text=\"Total Wins\", row=2, col=1)\n",
    "    fig.update_xaxes(title_text=\"Round Number\", row=2, col=2)\n",
    "    fig.update_yaxes(title_text=\"Cumulative Points\", row=2, col=2)\n",
    "    \n",
    "    return fig\n",
    "\n",
    "def create_character_analysis(tournament_data: Dict):\n",
    "    \"\"\"Create detailed character class performance analysis.\"\"\"\n",
    "    player_stats = tournament_data[\"player_stats\"]\n",
    "    \n",
    "    # Analyze performance by character class\n",
    "    class_analysis = {}\n",
    "    for name, stats in player_stats.items():\n",
    "        char_class = stats[\"character_class\"]\n",
    "        if char_class not in class_analysis:\n",
    "            class_analysis[char_class] = {\n",
    "                \"players\": [],\n",
    "                \"total_points\": 0,\n",
    "                \"total_wins\": 0,\n",
    "                \"hands_won_with\": []\n",
    "            }\n",
    "        \n",
    "        class_analysis[char_class][\"players\"].append(name)\n",
    "        class_analysis[char_class][\"total_points\"] += stats[\"points\"]\n",
    "        class_analysis[char_class][\"total_wins\"] += stats[\"wins\"]\n",
    "        class_analysis[char_class][\"hands_won_with\"].extend(stats[\"hands\"])\n",
    "    \n",
    "    # Create visualization\n",
    "    classes = list(class_analysis.keys())\n",
    "    avg_points = [class_analysis[cls][\"total_points\"] / len(class_analysis[cls][\"players\"]) \n",
    "                  for cls in classes]\n",
    "    total_wins = [class_analysis[cls][\"total_wins\"] for cls in classes]\n",
    "    \n",
    "    fig = go.Figure()\n",
    "    \n",
    "    # Add bars for average points\n",
    "    fig.add_trace(\n",
    "        go.Bar(\n",
    "            name=\"Avg Points per Player\",\n",
    "            x=classes,\n",
    "            y=avg_points,\n",
    "            yaxis=\"y\",\n",
    "            offsetgroup=1,\n",
    "            marker_color=px.colors.qualitative.Set2\n",
    "        )\n",
    "    )\n",
    "    \n",
    "    # Add bars for total wins\n",
    "    fig.add_trace(\n",
    "        go.Bar(\n",
    "            name=\"Total Wins\",\n",
    "            x=classes,\n",
    "            y=total_wins,\n",
    "            yaxis=\"y2\",\n",
    "            offsetgroup=2,\n",
    "            marker_color=px.colors.qualitative.Dark2\n",
    "        )\n",
    "    )\n",
    "    \n",
    "    fig.update_layout(\n",
    "        title=\"⚔️ Character Class Performance Analysis\",\n",
    "        xaxis=dict(title=\"Character Class\"),\n",
    "        yaxis=dict(title=\"Average Points per Player\", side=\"left\"),\n",
    "        yaxis2=dict(title=\"Total Wins\", side=\"right\", overlaying=\"y\"),\n",
    "        template=\"plotly_white\",\n",
    "        height=500\n",
    "    )\n",
    "    \n",
    "    return fig\n",
    "\n",
    "print(\"Visualization functions created!\")\n",
    "print(\"Ready to generate beautiful charts from tournament data!\")"
   ]
  },
  {
   "cell_type": "code",
   "execution_count": 9,
   "id": "b01ff186",
   "metadata": {},
   "outputs": [
    {
     "name": "stdout",
     "output_type": "stream",
     "text": [
      "Enhanced tournament function ready!\n",
      "This version tracks detailed statistics for rich visualizations.\n"
     ]
    }
   ],
   "source": [
    "# Enhanced tournament function with detailed tracking\n",
    "def run_tournament_with_stats(num_rounds: int = 5) -> Dict:\n",
    "    \"\"\"Run a tournament with comprehensive statistics tracking.\"\"\"\n",
    "    print(f\"STARTING {num_rounds}-ROUND TOURNAMENT WITH VISUALIZATION\")\n",
    "    print(\"=\" * 60)\n",
    "    \n",
    "    # Initialize comprehensive tracking\n",
    "    player_stats = {\n",
    "        player.name: {\n",
    "            \"wins\": 0, \n",
    "            \"points\": 0, \n",
    "            \"hands\": [], \n",
    "            \"character_class\": player.char_class.value,\n",
    "            \"abilities_used\": 0,\n",
    "            \"mod_cards_played\": 0,\n",
    "            \"round_placements\": []\n",
    "        } \n",
    "        for player in players\n",
    "    }\n",
    "    \n",
    "    round_results = []\n",
    "    hand_frequency = {}\n",
    "    \n",
    "    # Run all rounds\n",
    "    for round_num in range(1, num_rounds + 1):\n",
    "        print(f\"\\nROUND {round_num}/{num_rounds}\")\n",
    "        print(\"-\" * 40)\n",
    "        \n",
    "        winner, hand_type, points = simulate_one_round()\n",
    "        \n",
    "        # Track hand frequency\n",
    "        hand_frequency[hand_type] = hand_frequency.get(hand_type, 0) + 1\n",
    "        \n",
    "        # Update player statistics\n",
    "        player_stats[winner][\"wins\"] += 1\n",
    "        player_stats[winner][\"points\"] += points\n",
    "        player_stats[winner][\"hands\"].append(hand_type)\n",
    "        \n",
    "        # Record round result\n",
    "        round_results.append({\n",
    "            \"round\": round_num,\n",
    "            \"winner\": winner,\n",
    "            \"hand_type\": hand_type,\n",
    "            \"points\": points\n",
    "        })\n",
    "        \n",
    "        # Track placements for all players this round\n",
    "        round_scores = {}\n",
    "        for player_name in player_stats.keys():\n",
    "            if player_name == winner:\n",
    "                round_scores[player_name] = get_hand_rank(hand_type)\n",
    "            else:\n",
    "                # Simulate other players' hands for placement\n",
    "                round_scores[player_name] = random.randint(0, get_hand_rank(hand_type) - 1)\n",
    "        \n",
    "        # Sort by score and assign placements\n",
    "        sorted_players = sorted(round_scores.items(), key=lambda x: x[1], reverse=True)\n",
    "        for placement, (player_name, _) in enumerate(sorted_players, 1):\n",
    "            player_stats[player_name][\"round_placements\"].append(placement)\n",
    "        \n",
    "        print(f\"Round {round_num} Winner: {winner} ({hand_type})\")\n",
    "    \n",
    "    print(\"\\nTOURNAMENT COMPLETED - GENERATING VISUALIZATIONS...\")\n",
    "    \n",
    "    return {\n",
    "        \"player_stats\": player_stats,\n",
    "        \"round_results\": round_results,\n",
    "        \"hand_frequency\": hand_frequency,\n",
    "        \"num_rounds\": num_rounds\n",
    "    }\n",
    "\n",
    "print(\"Enhanced tournament function ready!\")\n",
    "print(\"This version tracks detailed statistics for rich visualizations.\")"
   ]
  },
  {
   "cell_type": "code",
   "execution_count": 10,
   "id": "c664f368",
   "metadata": {},
   "outputs": [
    {
     "name": "stdout",
     "output_type": "stream",
     "text": [
      "🎲 RUNNING ENHANCED TOURNAMENT WITH VISUALIZATIONS\n",
      "============================================================\n",
      "STARTING 5-ROUND TOURNAMENT WITH VISUALIZATION\n",
      "============================================================\n",
      "\n",
      "ROUND 1/5\n",
      "----------------------------------------\n",
      "STARTING ROUND SIMULATION\n",
      "==================================================\n",
      "Adding custom decks to the main deck...\n",
      "Custom decks added: Maddness, DarkSoul, Proletariat...\n",
      "Deck shuffled: 178 cards in play\n",
      "\n",
      "PHASE 1: DEALING HANDS\n",
      "------------------------------\n",
      "Scruffy McMuffins (CharacterClass.Rogue):\n",
      "  Real cards: 8H, 5S, KC, 5C, QS, JD, KS...\n",
      "  Mod cards: ['Royal Dividend']\n",
      "Patches (CharacterClass.Jester):\n",
      "  Real cards: 4C, 7S, 8H, JS, 6S, 5C...\n",
      "  Mod cards: ['Sneaky Swap', 'Extra Draw']\n",
      "Sir Whiskers (CharacterClass.Warrior):\n",
      "  Real cards: 4H, 4S, JD, 5D, 6H, 3S, 10C...\n",
      "  Mod cards: []\n",
      "\n",
      "PHASE 2: APPLYING MOD EFFECTS\n",
      "------------------------------\n",
      "  -> Patches swaps 5C <-> 10C with Sir Whiskers\n",
      "  -> Patches draws 9D (Extra Draw)\n",
      "\n",
      "PHASE 3: CHARACTER ABILITIES\n",
      "------------------------------\n",
      "  -> Scruffy McMuffins (Rogue) steals 5C from Sir Whiskers\n",
      "  -> Scruffy McMuffins (Rogue) steals 9D from Patches\n",
      "  -> Sir Whiskers (Warrior) reveals Patches's 7S\n",
      "\n",
      "PHASE 4: HAND EVALUATION\n",
      "------------------------------\n",
      "  Scruffy McMuffins: Full House\n",
      "  Patches: High Card\n",
      "  Sir Whiskers: One Pair\n",
      "\n",
      "WINNER: Scruffy McMuffins with Full House!\n",
      "  Scruffy McMuffins gains +3 chips from Royal Dividend\n",
      "\n",
      "ROUND RESULTS:\n",
      "  Winner: Scruffy McMuffins (+1 points, +3 bonus chips)\n",
      "  Winning Hand: Full House\n",
      "Round 1 Winner: Scruffy McMuffins (Full House)\n",
      "\n",
      "ROUND 2/5\n",
      "----------------------------------------\n",
      "STARTING ROUND SIMULATION\n",
      "==================================================\n",
      "Adding custom decks to the main deck...\n",
      "Custom decks added: Maddness, DarkSoul, Proletariat...\n",
      "Deck shuffled: 178 cards in play\n",
      "\n",
      "PHASE 1: DEALING HANDS\n",
      "------------------------------\n",
      "Scruffy McMuffins (CharacterClass.Rogue):\n",
      "  Real cards: QH, 8S, 3H, 4H, JOKER, 4D...\n",
      "  Mod cards: ['Extra Draw', 'Royal Dividend']\n",
      "Patches (CharacterClass.Jester):\n",
      "  Real cards: 9S, KC, 10D, 5S, 7S, 8D, JOKER, 4S...\n",
      "  Mod cards: []\n",
      "Sir Whiskers (CharacterClass.Warrior):\n",
      "  Real cards: 10C, 5C, 3D, 5S, KH, 10H, JOKER...\n",
      "  Mod cards: ['Sneaky Swap']\n",
      "\n",
      "PHASE 2: APPLYING MOD EFFECTS\n",
      "------------------------------\n",
      "  -> Scruffy McMuffins draws 8C (Extra Draw)\n",
      "  -> Sir Whiskers swaps JOKER <-> 4S with Patches\n",
      "\n",
      "PHASE 3: CHARACTER ABILITIES\n",
      "------------------------------\n",
      "  -> Scruffy McMuffins (Rogue) steals 4S from Sir Whiskers\n",
      "  -> Scruffy McMuffins (Rogue) steals JOKER from Patches\n",
      "  -> Sir Whiskers (Warrior) reveals Patches's 10D\n",
      "\n",
      "PHASE 4: HAND EVALUATION\n",
      "------------------------------\n",
      "  Scruffy McMuffins: Four of a Kind\n",
      "  Patches: One Pair\n",
      "  Sir Whiskers: Two Pair\n",
      "\n",
      "WINNER: Scruffy McMuffins with Four of a Kind!\n",
      "  Scruffy McMuffins gains +3 chips from Royal Dividend\n",
      "\n",
      "ROUND RESULTS:\n",
      "  Winner: Scruffy McMuffins (+1 points, +3 bonus chips)\n",
      "  Winning Hand: Four of a Kind\n",
      "Round 2 Winner: Scruffy McMuffins (Four of a Kind)\n",
      "\n",
      "ROUND 3/5\n",
      "----------------------------------------\n",
      "STARTING ROUND SIMULATION\n",
      "==================================================\n",
      "Adding custom decks to the main deck...\n",
      "Custom decks added: Maddness, DarkSoul, Proletariat...\n",
      "Deck shuffled: 178 cards in play\n",
      "\n",
      "PHASE 1: DEALING HANDS\n",
      "------------------------------\n",
      "Scruffy McMuffins (CharacterClass.Rogue):\n",
      "  Real cards: JH, JOKER, 10C, 8H, 7C, 3H, JOKER, 10S...\n",
      "  Mod cards: []\n",
      "Patches (CharacterClass.Jester):\n",
      "  Real cards: 3H, 2C, 4D, 3H, 7C, 2S, 5D, 6S...\n",
      "  Mod cards: []\n",
      "Sir Whiskers (CharacterClass.Warrior):\n",
      "  Real cards: QS, 9H, 8H, JOKER, 4S\n",
      "  Mod cards: ['Sneaky Swap', 'Royal Dividend', 'Extra Draw']\n",
      "\n",
      "PHASE 2: APPLYING MOD EFFECTS\n",
      "------------------------------\n",
      "  -> Sir Whiskers swaps 4S <-> 6S with Patches\n",
      "  -> Sir Whiskers draws 7H (Extra Draw)\n",
      "\n",
      "PHASE 3: CHARACTER ABILITIES\n",
      "------------------------------\n",
      "  -> Scruffy McMuffins (Rogue) steals 7H from Sir Whiskers\n",
      "  -> Scruffy McMuffins (Rogue) steals 4S from Patches\n",
      "  -> Sir Whiskers (Warrior) reveals Scruffy McMuffins's 10C\n",
      "\n",
      "PHASE 4: HAND EVALUATION\n",
      "------------------------------\n",
      "  Scruffy McMuffins: Four of a Kind\n",
      "  Patches: Two Pair\n",
      "  Sir Whiskers: One Pair\n",
      "\n",
      "WINNER: Scruffy McMuffins with Four of a Kind!\n",
      "\n",
      "ROUND RESULTS:\n",
      "  Winner: Scruffy McMuffins (+1 points, +0 bonus chips)\n",
      "  Winning Hand: Four of a Kind\n",
      "Round 3 Winner: Scruffy McMuffins (Four of a Kind)\n",
      "\n",
      "ROUND 4/5\n",
      "----------------------------------------\n",
      "STARTING ROUND SIMULATION\n",
      "==================================================\n",
      "Adding custom decks to the main deck...\n",
      "Custom decks added: Maddness, DarkSoul, Proletariat...\n",
      "Deck shuffled: 178 cards in play\n",
      "\n",
      "PHASE 1: DEALING HANDS\n",
      "------------------------------\n",
      "Scruffy McMuffins (CharacterClass.Rogue):\n",
      "  Real cards: 6C, JOKER, AS, 7H, 7C, 2C, QH...\n",
      "  Mod cards: ['Sneaky Swap']\n",
      "Patches (CharacterClass.Jester):\n",
      "  Real cards: 6D, 7S, 10H, 6C, JC, 2S, JH, AD...\n",
      "  Mod cards: []\n",
      "Sir Whiskers (CharacterClass.Warrior):\n",
      "  Real cards: 4C, 6H, JOKER, 6S, KH, 4C, 6S, 6D...\n",
      "  Mod cards: []\n",
      "\n",
      "PHASE 2: APPLYING MOD EFFECTS\n",
      "------------------------------\n",
      "  -> Scruffy McMuffins swaps QH <-> AD with Patches\n",
      "\n",
      "PHASE 3: CHARACTER ABILITIES\n",
      "------------------------------\n",
      "  -> Scruffy McMuffins (Rogue) steals QH from Patches\n",
      "  -> Scruffy McMuffins (Rogue) steals 6D from Sir Whiskers\n",
      "  -> Sir Whiskers (Warrior) reveals Scruffy McMuffins's JOKER\n",
      "\n",
      "PHASE 4: HAND EVALUATION\n",
      "------------------------------\n",
      "  Scruffy McMuffins: Three of a Kind\n",
      "  Patches: Two Pair\n",
      "  Sir Whiskers: Four of a Kind\n",
      "\n",
      "WINNER: Sir Whiskers with Four of a Kind!\n",
      "\n",
      "ROUND RESULTS:\n",
      "  Winner: Sir Whiskers (+1 points, +0 bonus chips)\n",
      "  Winning Hand: Four of a Kind\n",
      "Round 4 Winner: Sir Whiskers (Four of a Kind)\n",
      "\n",
      "ROUND 5/5\n",
      "----------------------------------------\n",
      "STARTING ROUND SIMULATION\n",
      "==================================================\n",
      "Adding custom decks to the main deck...\n",
      "Custom decks added: Maddness, DarkSoul, Proletariat...\n",
      "Deck shuffled: 178 cards in play\n",
      "\n",
      "PHASE 1: DEALING HANDS\n",
      "------------------------------\n",
      "Scruffy McMuffins (CharacterClass.Rogue):\n",
      "  Real cards: 10H, 9H, JS, KD, 2S, JS, 7D, 8H...\n",
      "  Mod cards: []\n",
      "Patches (CharacterClass.Jester):\n",
      "  Real cards: JOKER, JOKER, 2S, 3H, JD, 2H, 6D...\n",
      "  Mod cards: ['Sneaky Swap']\n",
      "Sir Whiskers (CharacterClass.Warrior):\n",
      "  Real cards: 10H, 6H, QH, 5S, 9C, JS, 10S, 2C...\n",
      "  Mod cards: []\n",
      "\n",
      "PHASE 2: APPLYING MOD EFFECTS\n",
      "------------------------------\n",
      "  -> Patches swaps 6D <-> 2C with Sir Whiskers\n",
      "\n",
      "PHASE 3: CHARACTER ABILITIES\n",
      "------------------------------\n",
      "  -> Scruffy McMuffins (Rogue) steals 2C from Patches\n",
      "  -> Scruffy McMuffins (Rogue) steals 6D from Sir Whiskers\n",
      "  -> Sir Whiskers (Warrior) reveals Patches's 3H\n",
      "\n",
      "PHASE 4: HAND EVALUATION\n",
      "------------------------------\n",
      "  Scruffy McMuffins: Straight\n",
      "  Patches: Four of a Kind\n",
      "  Sir Whiskers: One Pair\n",
      "\n",
      "WINNER: Patches with Four of a Kind!\n",
      "\n",
      "ROUND RESULTS:\n",
      "  Winner: Patches (+1 points, +0 bonus chips)\n",
      "  Winning Hand: Four of a Kind\n",
      "Round 5 Winner: Patches (Four of a Kind)\n",
      "\n",
      "TOURNAMENT COMPLETED - GENERATING VISUALIZATIONS...\n",
      "\n",
      "📊 GENERATING INTERACTIVE DASHBOARDS...\n",
      "----------------------------------------\n"
     ]
    },
    {
     "data": {
      "application/vnd.plotly.v1+json": {
       "config": {
        "plotlyServerURL": "https://plot.ly"
       },
       "data": [
        {
         "marker": {
          "color": [
           "rgb(141,211,199)",
           "rgb(255,255,179)",
           "rgb(190,186,218)"
          ]
         },
         "name": "Points",
         "text": [
          "3 pts<br>3 wins",
          "1 pts<br>1 wins",
          "1 pts<br>1 wins"
         ],
         "textposition": "auto",
         "type": "bar",
         "x": [
          "Scruffy McMuffins",
          "Patches",
          "Sir Whiskers"
         ],
         "xaxis": "x",
         "y": [
          3,
          1,
          1
         ],
         "yaxis": "y"
        },
        {
         "domain": {
          "x": [
           0.55,
           1
          ],
          "y": [
           0.625,
           1
          ]
         },
         "labels": [
          "Full House",
          "Four of a Kind"
         ],
         "name": "Hand Types",
         "type": "pie",
         "values": [
          1,
          4
         ]
        },
        {
         "marker": {
          "color": [
           "rgb(251,180,174)",
           "rgb(179,205,227)",
           "rgb(204,235,197)"
          ]
         },
         "name": "Class Wins",
         "type": "bar",
         "x": [
          "Rogue",
          "Jester",
          "Warrior"
         ],
         "xaxis": "x2",
         "y": [
          3,
          1,
          1
         ],
         "yaxis": "y2"
        },
        {
         "line": {
          "width": 3
         },
         "marker": {
          "size": 8
         },
         "mode": "lines+markers",
         "name": "Scruffy McMuffins",
         "type": "scatter",
         "x": [
          1,
          2,
          3,
          4,
          5
         ],
         "xaxis": "x3",
         "y": [
          1,
          2,
          3,
          3,
          3
         ],
         "yaxis": "y3"
        },
        {
         "line": {
          "width": 3
         },
         "marker": {
          "size": 8
         },
         "mode": "lines+markers",
         "name": "Patches",
         "type": "scatter",
         "x": [
          1,
          2,
          3,
          4,
          5
         ],
         "xaxis": "x3",
         "y": [
          0,
          0,
          0,
          0,
          1
         ],
         "yaxis": "y3"
        },
        {
         "line": {
          "width": 3
         },
         "marker": {
          "size": 8
         },
         "mode": "lines+markers",
         "name": "Sir Whiskers",
         "type": "scatter",
         "x": [
          1,
          2,
          3,
          4,
          5
         ],
         "xaxis": "x3",
         "y": [
          0,
          0,
          0,
          1,
          1
         ],
         "yaxis": "y3"
        }
       ],
       "layout": {
        "annotations": [
         {
          "font": {
           "size": 16
          },
          "showarrow": false,
          "text": "Final Tournament Standings",
          "x": 0.225,
          "xanchor": "center",
          "xref": "paper",
          "y": 1,
          "yanchor": "bottom",
          "yref": "paper"
         },
         {
          "font": {
           "size": 16
          },
          "showarrow": false,
          "text": "Hand Type Distribution",
          "x": 0.775,
          "xanchor": "center",
          "xref": "paper",
          "y": 1,
          "yanchor": "bottom",
          "yref": "paper"
         },
         {
          "font": {
           "size": 16
          },
          "showarrow": false,
          "text": "Wins by Character Class",
          "x": 0.225,
          "xanchor": "center",
          "xref": "paper",
          "y": 0.375,
          "yanchor": "bottom",
          "yref": "paper"
         },
         {
          "font": {
           "size": 16
          },
          "showarrow": false,
          "text": "Round-by-Round Performance",
          "x": 0.775,
          "xanchor": "center",
          "xref": "paper",
          "y": 0.375,
          "yanchor": "bottom",
          "yref": "paper"
         }
        ],
        "height": 800,
        "showlegend": true,
        "template": {
         "data": {
          "bar": [
           {
            "error_x": {
             "color": "#2a3f5f"
            },
            "error_y": {
             "color": "#2a3f5f"
            },
            "marker": {
             "line": {
              "color": "white",
              "width": 0.5
             },
             "pattern": {
              "fillmode": "overlay",
              "size": 10,
              "solidity": 0.2
             }
            },
            "type": "bar"
           }
          ],
          "barpolar": [
           {
            "marker": {
             "line": {
              "color": "white",
              "width": 0.5
             },
             "pattern": {
              "fillmode": "overlay",
              "size": 10,
              "solidity": 0.2
             }
            },
            "type": "barpolar"
           }
          ],
          "carpet": [
           {
            "aaxis": {
             "endlinecolor": "#2a3f5f",
             "gridcolor": "#C8D4E3",
             "linecolor": "#C8D4E3",
             "minorgridcolor": "#C8D4E3",
             "startlinecolor": "#2a3f5f"
            },
            "baxis": {
             "endlinecolor": "#2a3f5f",
             "gridcolor": "#C8D4E3",
             "linecolor": "#C8D4E3",
             "minorgridcolor": "#C8D4E3",
             "startlinecolor": "#2a3f5f"
            },
            "type": "carpet"
           }
          ],
          "choropleth": [
           {
            "colorbar": {
             "outlinewidth": 0,
             "ticks": ""
            },
            "type": "choropleth"
           }
          ],
          "contour": [
           {
            "colorbar": {
             "outlinewidth": 0,
             "ticks": ""
            },
            "colorscale": [
             [
              0,
              "#0d0887"
             ],
             [
              0.1111111111111111,
              "#46039f"
             ],
             [
              0.2222222222222222,
              "#7201a8"
             ],
             [
              0.3333333333333333,
              "#9c179e"
             ],
             [
              0.4444444444444444,
              "#bd3786"
             ],
             [
              0.5555555555555556,
              "#d8576b"
             ],
             [
              0.6666666666666666,
              "#ed7953"
             ],
             [
              0.7777777777777778,
              "#fb9f3a"
             ],
             [
              0.8888888888888888,
              "#fdca26"
             ],
             [
              1,
              "#f0f921"
             ]
            ],
            "type": "contour"
           }
          ],
          "contourcarpet": [
           {
            "colorbar": {
             "outlinewidth": 0,
             "ticks": ""
            },
            "type": "contourcarpet"
           }
          ],
          "heatmap": [
           {
            "colorbar": {
             "outlinewidth": 0,
             "ticks": ""
            },
            "colorscale": [
             [
              0,
              "#0d0887"
             ],
             [
              0.1111111111111111,
              "#46039f"
             ],
             [
              0.2222222222222222,
              "#7201a8"
             ],
             [
              0.3333333333333333,
              "#9c179e"
             ],
             [
              0.4444444444444444,
              "#bd3786"
             ],
             [
              0.5555555555555556,
              "#d8576b"
             ],
             [
              0.6666666666666666,
              "#ed7953"
             ],
             [
              0.7777777777777778,
              "#fb9f3a"
             ],
             [
              0.8888888888888888,
              "#fdca26"
             ],
             [
              1,
              "#f0f921"
             ]
            ],
            "type": "heatmap"
           }
          ],
          "histogram": [
           {
            "marker": {
             "pattern": {
              "fillmode": "overlay",
              "size": 10,
              "solidity": 0.2
             }
            },
            "type": "histogram"
           }
          ],
          "histogram2d": [
           {
            "colorbar": {
             "outlinewidth": 0,
             "ticks": ""
            },
            "colorscale": [
             [
              0,
              "#0d0887"
             ],
             [
              0.1111111111111111,
              "#46039f"
             ],
             [
              0.2222222222222222,
              "#7201a8"
             ],
             [
              0.3333333333333333,
              "#9c179e"
             ],
             [
              0.4444444444444444,
              "#bd3786"
             ],
             [
              0.5555555555555556,
              "#d8576b"
             ],
             [
              0.6666666666666666,
              "#ed7953"
             ],
             [
              0.7777777777777778,
              "#fb9f3a"
             ],
             [
              0.8888888888888888,
              "#fdca26"
             ],
             [
              1,
              "#f0f921"
             ]
            ],
            "type": "histogram2d"
           }
          ],
          "histogram2dcontour": [
           {
            "colorbar": {
             "outlinewidth": 0,
             "ticks": ""
            },
            "colorscale": [
             [
              0,
              "#0d0887"
             ],
             [
              0.1111111111111111,
              "#46039f"
             ],
             [
              0.2222222222222222,
              "#7201a8"
             ],
             [
              0.3333333333333333,
              "#9c179e"
             ],
             [
              0.4444444444444444,
              "#bd3786"
             ],
             [
              0.5555555555555556,
              "#d8576b"
             ],
             [
              0.6666666666666666,
              "#ed7953"
             ],
             [
              0.7777777777777778,
              "#fb9f3a"
             ],
             [
              0.8888888888888888,
              "#fdca26"
             ],
             [
              1,
              "#f0f921"
             ]
            ],
            "type": "histogram2dcontour"
           }
          ],
          "mesh3d": [
           {
            "colorbar": {
             "outlinewidth": 0,
             "ticks": ""
            },
            "type": "mesh3d"
           }
          ],
          "parcoords": [
           {
            "line": {
             "colorbar": {
              "outlinewidth": 0,
              "ticks": ""
             }
            },
            "type": "parcoords"
           }
          ],
          "pie": [
           {
            "automargin": true,
            "type": "pie"
           }
          ],
          "scatter": [
           {
            "fillpattern": {
             "fillmode": "overlay",
             "size": 10,
             "solidity": 0.2
            },
            "type": "scatter"
           }
          ],
          "scatter3d": [
           {
            "line": {
             "colorbar": {
              "outlinewidth": 0,
              "ticks": ""
             }
            },
            "marker": {
             "colorbar": {
              "outlinewidth": 0,
              "ticks": ""
             }
            },
            "type": "scatter3d"
           }
          ],
          "scattercarpet": [
           {
            "marker": {
             "colorbar": {
              "outlinewidth": 0,
              "ticks": ""
             }
            },
            "type": "scattercarpet"
           }
          ],
          "scattergeo": [
           {
            "marker": {
             "colorbar": {
              "outlinewidth": 0,
              "ticks": ""
             }
            },
            "type": "scattergeo"
           }
          ],
          "scattergl": [
           {
            "marker": {
             "colorbar": {
              "outlinewidth": 0,
              "ticks": ""
             }
            },
            "type": "scattergl"
           }
          ],
          "scattermap": [
           {
            "marker": {
             "colorbar": {
              "outlinewidth": 0,
              "ticks": ""
             }
            },
            "type": "scattermap"
           }
          ],
          "scattermapbox": [
           {
            "marker": {
             "colorbar": {
              "outlinewidth": 0,
              "ticks": ""
             }
            },
            "type": "scattermapbox"
           }
          ],
          "scatterpolar": [
           {
            "marker": {
             "colorbar": {
              "outlinewidth": 0,
              "ticks": ""
             }
            },
            "type": "scatterpolar"
           }
          ],
          "scatterpolargl": [
           {
            "marker": {
             "colorbar": {
              "outlinewidth": 0,
              "ticks": ""
             }
            },
            "type": "scatterpolargl"
           }
          ],
          "scatterternary": [
           {
            "marker": {
             "colorbar": {
              "outlinewidth": 0,
              "ticks": ""
             }
            },
            "type": "scatterternary"
           }
          ],
          "surface": [
           {
            "colorbar": {
             "outlinewidth": 0,
             "ticks": ""
            },
            "colorscale": [
             [
              0,
              "#0d0887"
             ],
             [
              0.1111111111111111,
              "#46039f"
             ],
             [
              0.2222222222222222,
              "#7201a8"
             ],
             [
              0.3333333333333333,
              "#9c179e"
             ],
             [
              0.4444444444444444,
              "#bd3786"
             ],
             [
              0.5555555555555556,
              "#d8576b"
             ],
             [
              0.6666666666666666,
              "#ed7953"
             ],
             [
              0.7777777777777778,
              "#fb9f3a"
             ],
             [
              0.8888888888888888,
              "#fdca26"
             ],
             [
              1,
              "#f0f921"
             ]
            ],
            "type": "surface"
           }
          ],
          "table": [
           {
            "cells": {
             "fill": {
              "color": "#EBF0F8"
             },
             "line": {
              "color": "white"
             }
            },
            "header": {
             "fill": {
              "color": "#C8D4E3"
             },
             "line": {
              "color": "white"
             }
            },
            "type": "table"
           }
          ]
         },
         "layout": {
          "annotationdefaults": {
           "arrowcolor": "#2a3f5f",
           "arrowhead": 0,
           "arrowwidth": 1
          },
          "autotypenumbers": "strict",
          "coloraxis": {
           "colorbar": {
            "outlinewidth": 0,
            "ticks": ""
           }
          },
          "colorscale": {
           "diverging": [
            [
             0,
             "#8e0152"
            ],
            [
             0.1,
             "#c51b7d"
            ],
            [
             0.2,
             "#de77ae"
            ],
            [
             0.3,
             "#f1b6da"
            ],
            [
             0.4,
             "#fde0ef"
            ],
            [
             0.5,
             "#f7f7f7"
            ],
            [
             0.6,
             "#e6f5d0"
            ],
            [
             0.7,
             "#b8e186"
            ],
            [
             0.8,
             "#7fbc41"
            ],
            [
             0.9,
             "#4d9221"
            ],
            [
             1,
             "#276419"
            ]
           ],
           "sequential": [
            [
             0,
             "#0d0887"
            ],
            [
             0.1111111111111111,
             "#46039f"
            ],
            [
             0.2222222222222222,
             "#7201a8"
            ],
            [
             0.3333333333333333,
             "#9c179e"
            ],
            [
             0.4444444444444444,
             "#bd3786"
            ],
            [
             0.5555555555555556,
             "#d8576b"
            ],
            [
             0.6666666666666666,
             "#ed7953"
            ],
            [
             0.7777777777777778,
             "#fb9f3a"
            ],
            [
             0.8888888888888888,
             "#fdca26"
            ],
            [
             1,
             "#f0f921"
            ]
           ],
           "sequentialminus": [
            [
             0,
             "#0d0887"
            ],
            [
             0.1111111111111111,
             "#46039f"
            ],
            [
             0.2222222222222222,
             "#7201a8"
            ],
            [
             0.3333333333333333,
             "#9c179e"
            ],
            [
             0.4444444444444444,
             "#bd3786"
            ],
            [
             0.5555555555555556,
             "#d8576b"
            ],
            [
             0.6666666666666666,
             "#ed7953"
            ],
            [
             0.7777777777777778,
             "#fb9f3a"
            ],
            [
             0.8888888888888888,
             "#fdca26"
            ],
            [
             1,
             "#f0f921"
            ]
           ]
          },
          "colorway": [
           "#636efa",
           "#EF553B",
           "#00cc96",
           "#ab63fa",
           "#FFA15A",
           "#19d3f3",
           "#FF6692",
           "#B6E880",
           "#FF97FF",
           "#FECB52"
          ],
          "font": {
           "color": "#2a3f5f"
          },
          "geo": {
           "bgcolor": "white",
           "lakecolor": "white",
           "landcolor": "white",
           "showlakes": true,
           "showland": true,
           "subunitcolor": "#C8D4E3"
          },
          "hoverlabel": {
           "align": "left"
          },
          "hovermode": "closest",
          "mapbox": {
           "style": "light"
          },
          "paper_bgcolor": "white",
          "plot_bgcolor": "white",
          "polar": {
           "angularaxis": {
            "gridcolor": "#EBF0F8",
            "linecolor": "#EBF0F8",
            "ticks": ""
           },
           "bgcolor": "white",
           "radialaxis": {
            "gridcolor": "#EBF0F8",
            "linecolor": "#EBF0F8",
            "ticks": ""
           }
          },
          "scene": {
           "xaxis": {
            "backgroundcolor": "white",
            "gridcolor": "#DFE8F3",
            "gridwidth": 2,
            "linecolor": "#EBF0F8",
            "showbackground": true,
            "ticks": "",
            "zerolinecolor": "#EBF0F8"
           },
           "yaxis": {
            "backgroundcolor": "white",
            "gridcolor": "#DFE8F3",
            "gridwidth": 2,
            "linecolor": "#EBF0F8",
            "showbackground": true,
            "ticks": "",
            "zerolinecolor": "#EBF0F8"
           },
           "zaxis": {
            "backgroundcolor": "white",
            "gridcolor": "#DFE8F3",
            "gridwidth": 2,
            "linecolor": "#EBF0F8",
            "showbackground": true,
            "ticks": "",
            "zerolinecolor": "#EBF0F8"
           }
          },
          "shapedefaults": {
           "line": {
            "color": "#2a3f5f"
           }
          },
          "ternary": {
           "aaxis": {
            "gridcolor": "#DFE8F3",
            "linecolor": "#A2B1C6",
            "ticks": ""
           },
           "baxis": {
            "gridcolor": "#DFE8F3",
            "linecolor": "#A2B1C6",
            "ticks": ""
           },
           "bgcolor": "white",
           "caxis": {
            "gridcolor": "#DFE8F3",
            "linecolor": "#A2B1C6",
            "ticks": ""
           }
          },
          "title": {
           "x": 0.05
          },
          "xaxis": {
           "automargin": true,
           "gridcolor": "#EBF0F8",
           "linecolor": "#EBF0F8",
           "ticks": "",
           "title": {
            "standoff": 15
           },
           "zerolinecolor": "#EBF0F8",
           "zerolinewidth": 2
          },
          "yaxis": {
           "automargin": true,
           "gridcolor": "#EBF0F8",
           "linecolor": "#EBF0F8",
           "ticks": "",
           "title": {
            "standoff": 15
           },
           "zerolinecolor": "#EBF0F8",
           "zerolinewidth": 2
          }
         }
        },
        "title": {
         "text": "🎲 Poker Tournament Dashboard - 5 Rounds",
         "x": 0.5
        },
        "xaxis": {
         "anchor": "y",
         "domain": [
          0,
          0.45
         ],
         "title": {
          "text": "Players"
         }
        },
        "xaxis2": {
         "anchor": "y2",
         "domain": [
          0,
          0.45
         ],
         "title": {
          "text": "Character Class"
         }
        },
        "xaxis3": {
         "anchor": "y3",
         "domain": [
          0.55,
          1
         ],
         "title": {
          "text": "Round Number"
         }
        },
        "yaxis": {
         "anchor": "x",
         "domain": [
          0.625,
          1
         ],
         "title": {
          "text": "Points"
         }
        },
        "yaxis2": {
         "anchor": "x2",
         "domain": [
          0,
          0.375
         ],
         "title": {
          "text": "Total Wins"
         }
        },
        "yaxis3": {
         "anchor": "x3",
         "domain": [
          0,
          0.375
         ],
         "title": {
          "text": "Cumulative Points"
         }
        }
       }
      }
     },
     "metadata": {},
     "output_type": "display_data"
    },
    {
     "name": "stdout",
     "output_type": "stream",
     "text": [
      "✅ Main tournament dashboard displayed above!\n"
     ]
    }
   ],
   "source": [
    "# Run enhanced tournament with visualizations!\n",
    "\n",
    "print(\"🎲 RUNNING ENHANCED TOURNAMENT WITH VISUALIZATIONS\")\n",
    "print(\"=\" * 60)\n",
    "\n",
    "# Run tournament with detailed tracking\n",
    "tournament_data = run_tournament_with_stats(5)\n",
    "\n",
    "print(f\"\\n📊 GENERATING INTERACTIVE DASHBOARDS...\")\n",
    "print(\"-\" * 40)\n",
    "\n",
    "# Create and display main dashboard\n",
    "dashboard = create_tournament_dashboard(tournament_data)\n",
    "dashboard.show()\n",
    "\n",
    "print(\"✅ Main tournament dashboard displayed above!\")"
   ]
  },
  {
   "cell_type": "code",
   "execution_count": 11,
   "id": "e974577c",
   "metadata": {},
   "outputs": [
    {
     "name": "stdout",
     "output_type": "stream",
     "text": [
      "🃏 ANALYZING HAND RARITY DISTRIBUTION\n",
      "----------------------------------------\n"
     ]
    },
    {
     "data": {
      "application/vnd.plotly.v1+json": {
       "config": {
        "plotlyServerURL": "https://plot.ly"
       },
       "data": [
        {
         "hole": 0.4,
         "labels": [
          "Common",
          "Uncommon",
          "Rare",
          "Exotic"
         ],
         "marker": {
          "colors": [
           "rgb(141,211,199)",
           "rgb(255,255,179)",
           "rgb(190,186,218)",
           "rgb(251,128,114)",
           "rgb(128,177,211)",
           "rgb(253,180,98)",
           "rgb(179,222,105)",
           "rgb(252,205,229)",
           "rgb(217,217,217)",
           "rgb(188,128,189)",
           "rgb(204,235,197)",
           "rgb(255,237,111)"
          ]
         },
         "type": "pie",
         "values": [
          0,
          0,
          5,
          0
         ]
        }
       ],
       "layout": {
        "annotations": [
         {
          "font": {
           "size": 16
          },
          "showarrow": false,
          "text": "Exotic Hands<br>0.0%",
          "x": 0.5,
          "y": 0.5
         }
        ],
        "height": 400,
        "template": {
         "data": {
          "bar": [
           {
            "error_x": {
             "color": "#2a3f5f"
            },
            "error_y": {
             "color": "#2a3f5f"
            },
            "marker": {
             "line": {
              "color": "white",
              "width": 0.5
             },
             "pattern": {
              "fillmode": "overlay",
              "size": 10,
              "solidity": 0.2
             }
            },
            "type": "bar"
           }
          ],
          "barpolar": [
           {
            "marker": {
             "line": {
              "color": "white",
              "width": 0.5
             },
             "pattern": {
              "fillmode": "overlay",
              "size": 10,
              "solidity": 0.2
             }
            },
            "type": "barpolar"
           }
          ],
          "carpet": [
           {
            "aaxis": {
             "endlinecolor": "#2a3f5f",
             "gridcolor": "#C8D4E3",
             "linecolor": "#C8D4E3",
             "minorgridcolor": "#C8D4E3",
             "startlinecolor": "#2a3f5f"
            },
            "baxis": {
             "endlinecolor": "#2a3f5f",
             "gridcolor": "#C8D4E3",
             "linecolor": "#C8D4E3",
             "minorgridcolor": "#C8D4E3",
             "startlinecolor": "#2a3f5f"
            },
            "type": "carpet"
           }
          ],
          "choropleth": [
           {
            "colorbar": {
             "outlinewidth": 0,
             "ticks": ""
            },
            "type": "choropleth"
           }
          ],
          "contour": [
           {
            "colorbar": {
             "outlinewidth": 0,
             "ticks": ""
            },
            "colorscale": [
             [
              0,
              "#0d0887"
             ],
             [
              0.1111111111111111,
              "#46039f"
             ],
             [
              0.2222222222222222,
              "#7201a8"
             ],
             [
              0.3333333333333333,
              "#9c179e"
             ],
             [
              0.4444444444444444,
              "#bd3786"
             ],
             [
              0.5555555555555556,
              "#d8576b"
             ],
             [
              0.6666666666666666,
              "#ed7953"
             ],
             [
              0.7777777777777778,
              "#fb9f3a"
             ],
             [
              0.8888888888888888,
              "#fdca26"
             ],
             [
              1,
              "#f0f921"
             ]
            ],
            "type": "contour"
           }
          ],
          "contourcarpet": [
           {
            "colorbar": {
             "outlinewidth": 0,
             "ticks": ""
            },
            "type": "contourcarpet"
           }
          ],
          "heatmap": [
           {
            "colorbar": {
             "outlinewidth": 0,
             "ticks": ""
            },
            "colorscale": [
             [
              0,
              "#0d0887"
             ],
             [
              0.1111111111111111,
              "#46039f"
             ],
             [
              0.2222222222222222,
              "#7201a8"
             ],
             [
              0.3333333333333333,
              "#9c179e"
             ],
             [
              0.4444444444444444,
              "#bd3786"
             ],
             [
              0.5555555555555556,
              "#d8576b"
             ],
             [
              0.6666666666666666,
              "#ed7953"
             ],
             [
              0.7777777777777778,
              "#fb9f3a"
             ],
             [
              0.8888888888888888,
              "#fdca26"
             ],
             [
              1,
              "#f0f921"
             ]
            ],
            "type": "heatmap"
           }
          ],
          "histogram": [
           {
            "marker": {
             "pattern": {
              "fillmode": "overlay",
              "size": 10,
              "solidity": 0.2
             }
            },
            "type": "histogram"
           }
          ],
          "histogram2d": [
           {
            "colorbar": {
             "outlinewidth": 0,
             "ticks": ""
            },
            "colorscale": [
             [
              0,
              "#0d0887"
             ],
             [
              0.1111111111111111,
              "#46039f"
             ],
             [
              0.2222222222222222,
              "#7201a8"
             ],
             [
              0.3333333333333333,
              "#9c179e"
             ],
             [
              0.4444444444444444,
              "#bd3786"
             ],
             [
              0.5555555555555556,
              "#d8576b"
             ],
             [
              0.6666666666666666,
              "#ed7953"
             ],
             [
              0.7777777777777778,
              "#fb9f3a"
             ],
             [
              0.8888888888888888,
              "#fdca26"
             ],
             [
              1,
              "#f0f921"
             ]
            ],
            "type": "histogram2d"
           }
          ],
          "histogram2dcontour": [
           {
            "colorbar": {
             "outlinewidth": 0,
             "ticks": ""
            },
            "colorscale": [
             [
              0,
              "#0d0887"
             ],
             [
              0.1111111111111111,
              "#46039f"
             ],
             [
              0.2222222222222222,
              "#7201a8"
             ],
             [
              0.3333333333333333,
              "#9c179e"
             ],
             [
              0.4444444444444444,
              "#bd3786"
             ],
             [
              0.5555555555555556,
              "#d8576b"
             ],
             [
              0.6666666666666666,
              "#ed7953"
             ],
             [
              0.7777777777777778,
              "#fb9f3a"
             ],
             [
              0.8888888888888888,
              "#fdca26"
             ],
             [
              1,
              "#f0f921"
             ]
            ],
            "type": "histogram2dcontour"
           }
          ],
          "mesh3d": [
           {
            "colorbar": {
             "outlinewidth": 0,
             "ticks": ""
            },
            "type": "mesh3d"
           }
          ],
          "parcoords": [
           {
            "line": {
             "colorbar": {
              "outlinewidth": 0,
              "ticks": ""
             }
            },
            "type": "parcoords"
           }
          ],
          "pie": [
           {
            "automargin": true,
            "type": "pie"
           }
          ],
          "scatter": [
           {
            "fillpattern": {
             "fillmode": "overlay",
             "size": 10,
             "solidity": 0.2
            },
            "type": "scatter"
           }
          ],
          "scatter3d": [
           {
            "line": {
             "colorbar": {
              "outlinewidth": 0,
              "ticks": ""
             }
            },
            "marker": {
             "colorbar": {
              "outlinewidth": 0,
              "ticks": ""
             }
            },
            "type": "scatter3d"
           }
          ],
          "scattercarpet": [
           {
            "marker": {
             "colorbar": {
              "outlinewidth": 0,
              "ticks": ""
             }
            },
            "type": "scattercarpet"
           }
          ],
          "scattergeo": [
           {
            "marker": {
             "colorbar": {
              "outlinewidth": 0,
              "ticks": ""
             }
            },
            "type": "scattergeo"
           }
          ],
          "scattergl": [
           {
            "marker": {
             "colorbar": {
              "outlinewidth": 0,
              "ticks": ""
             }
            },
            "type": "scattergl"
           }
          ],
          "scattermap": [
           {
            "marker": {
             "colorbar": {
              "outlinewidth": 0,
              "ticks": ""
             }
            },
            "type": "scattermap"
           }
          ],
          "scattermapbox": [
           {
            "marker": {
             "colorbar": {
              "outlinewidth": 0,
              "ticks": ""
             }
            },
            "type": "scattermapbox"
           }
          ],
          "scatterpolar": [
           {
            "marker": {
             "colorbar": {
              "outlinewidth": 0,
              "ticks": ""
             }
            },
            "type": "scatterpolar"
           }
          ],
          "scatterpolargl": [
           {
            "marker": {
             "colorbar": {
              "outlinewidth": 0,
              "ticks": ""
             }
            },
            "type": "scatterpolargl"
           }
          ],
          "scatterternary": [
           {
            "marker": {
             "colorbar": {
              "outlinewidth": 0,
              "ticks": ""
             }
            },
            "type": "scatterternary"
           }
          ],
          "surface": [
           {
            "colorbar": {
             "outlinewidth": 0,
             "ticks": ""
            },
            "colorscale": [
             [
              0,
              "#0d0887"
             ],
             [
              0.1111111111111111,
              "#46039f"
             ],
             [
              0.2222222222222222,
              "#7201a8"
             ],
             [
              0.3333333333333333,
              "#9c179e"
             ],
             [
              0.4444444444444444,
              "#bd3786"
             ],
             [
              0.5555555555555556,
              "#d8576b"
             ],
             [
              0.6666666666666666,
              "#ed7953"
             ],
             [
              0.7777777777777778,
              "#fb9f3a"
             ],
             [
              0.8888888888888888,
              "#fdca26"
             ],
             [
              1,
              "#f0f921"
             ]
            ],
            "type": "surface"
           }
          ],
          "table": [
           {
            "cells": {
             "fill": {
              "color": "#EBF0F8"
             },
             "line": {
              "color": "white"
             }
            },
            "header": {
             "fill": {
              "color": "#C8D4E3"
             },
             "line": {
              "color": "white"
             }
            },
            "type": "table"
           }
          ]
         },
         "layout": {
          "annotationdefaults": {
           "arrowcolor": "#2a3f5f",
           "arrowhead": 0,
           "arrowwidth": 1
          },
          "autotypenumbers": "strict",
          "coloraxis": {
           "colorbar": {
            "outlinewidth": 0,
            "ticks": ""
           }
          },
          "colorscale": {
           "diverging": [
            [
             0,
             "#8e0152"
            ],
            [
             0.1,
             "#c51b7d"
            ],
            [
             0.2,
             "#de77ae"
            ],
            [
             0.3,
             "#f1b6da"
            ],
            [
             0.4,
             "#fde0ef"
            ],
            [
             0.5,
             "#f7f7f7"
            ],
            [
             0.6,
             "#e6f5d0"
            ],
            [
             0.7,
             "#b8e186"
            ],
            [
             0.8,
             "#7fbc41"
            ],
            [
             0.9,
             "#4d9221"
            ],
            [
             1,
             "#276419"
            ]
           ],
           "sequential": [
            [
             0,
             "#0d0887"
            ],
            [
             0.1111111111111111,
             "#46039f"
            ],
            [
             0.2222222222222222,
             "#7201a8"
            ],
            [
             0.3333333333333333,
             "#9c179e"
            ],
            [
             0.4444444444444444,
             "#bd3786"
            ],
            [
             0.5555555555555556,
             "#d8576b"
            ],
            [
             0.6666666666666666,
             "#ed7953"
            ],
            [
             0.7777777777777778,
             "#fb9f3a"
            ],
            [
             0.8888888888888888,
             "#fdca26"
            ],
            [
             1,
             "#f0f921"
            ]
           ],
           "sequentialminus": [
            [
             0,
             "#0d0887"
            ],
            [
             0.1111111111111111,
             "#46039f"
            ],
            [
             0.2222222222222222,
             "#7201a8"
            ],
            [
             0.3333333333333333,
             "#9c179e"
            ],
            [
             0.4444444444444444,
             "#bd3786"
            ],
            [
             0.5555555555555556,
             "#d8576b"
            ],
            [
             0.6666666666666666,
             "#ed7953"
            ],
            [
             0.7777777777777778,
             "#fb9f3a"
            ],
            [
             0.8888888888888888,
             "#fdca26"
            ],
            [
             1,
             "#f0f921"
            ]
           ]
          },
          "colorway": [
           "#636efa",
           "#EF553B",
           "#00cc96",
           "#ab63fa",
           "#FFA15A",
           "#19d3f3",
           "#FF6692",
           "#B6E880",
           "#FF97FF",
           "#FECB52"
          ],
          "font": {
           "color": "#2a3f5f"
          },
          "geo": {
           "bgcolor": "white",
           "lakecolor": "white",
           "landcolor": "white",
           "showlakes": true,
           "showland": true,
           "subunitcolor": "#C8D4E3"
          },
          "hoverlabel": {
           "align": "left"
          },
          "hovermode": "closest",
          "mapbox": {
           "style": "light"
          },
          "paper_bgcolor": "white",
          "plot_bgcolor": "white",
          "polar": {
           "angularaxis": {
            "gridcolor": "#EBF0F8",
            "linecolor": "#EBF0F8",
            "ticks": ""
           },
           "bgcolor": "white",
           "radialaxis": {
            "gridcolor": "#EBF0F8",
            "linecolor": "#EBF0F8",
            "ticks": ""
           }
          },
          "scene": {
           "xaxis": {
            "backgroundcolor": "white",
            "gridcolor": "#DFE8F3",
            "gridwidth": 2,
            "linecolor": "#EBF0F8",
            "showbackground": true,
            "ticks": "",
            "zerolinecolor": "#EBF0F8"
           },
           "yaxis": {
            "backgroundcolor": "white",
            "gridcolor": "#DFE8F3",
            "gridwidth": 2,
            "linecolor": "#EBF0F8",
            "showbackground": true,
            "ticks": "",
            "zerolinecolor": "#EBF0F8"
           },
           "zaxis": {
            "backgroundcolor": "white",
            "gridcolor": "#DFE8F3",
            "gridwidth": 2,
            "linecolor": "#EBF0F8",
            "showbackground": true,
            "ticks": "",
            "zerolinecolor": "#EBF0F8"
           }
          },
          "shapedefaults": {
           "line": {
            "color": "#2a3f5f"
           }
          },
          "ternary": {
           "aaxis": {
            "gridcolor": "#DFE8F3",
            "linecolor": "#A2B1C6",
            "ticks": ""
           },
           "baxis": {
            "gridcolor": "#DFE8F3",
            "linecolor": "#A2B1C6",
            "ticks": ""
           },
           "bgcolor": "white",
           "caxis": {
            "gridcolor": "#DFE8F3",
            "linecolor": "#A2B1C6",
            "ticks": ""
           }
          },
          "title": {
           "x": 0.05
          },
          "xaxis": {
           "automargin": true,
           "gridcolor": "#EBF0F8",
           "linecolor": "#EBF0F8",
           "ticks": "",
           "title": {
            "standoff": 15
           },
           "zerolinecolor": "#EBF0F8",
           "zerolinewidth": 2
          },
          "yaxis": {
           "automargin": true,
           "gridcolor": "#EBF0F8",
           "linecolor": "#EBF0F8",
           "ticks": "",
           "title": {
            "standoff": 15
           },
           "zerolinecolor": "#EBF0F8",
           "zerolinewidth": 2
          }
         }
        },
        "title": {
         "text": "🃏 Hand Rarity Distribution"
        }
       }
      }
     },
     "metadata": {},
     "output_type": "display_data"
    },
    {
     "name": "stdout",
     "output_type": "stream",
     "text": [
      "✅ Hand rarity analysis displayed above!\n",
      "\n",
      "Detailed Hand Frequency:\n",
      "  Four of a Kind: 4 times (80.0%)\n",
      "  Full House: 1 times (20.0%)\n"
     ]
    }
   ],
   "source": [
    "# Hand rarity and exotic hand analysis\n",
    "\n",
    "def create_hand_rarity_analysis(tournament_data: Dict):\n",
    "    \"\"\"Analyze the rarity and frequency of different hand types.\"\"\"\n",
    "    hand_frequency = tournament_data[\"hand_frequency\"]\n",
    "    \n",
    "    # Categorize hands by rarity\n",
    "    common_hands = [\"High Card\", \"One Pair\", \"Two Pair\"]\n",
    "    uncommon_hands = [\"Three of a Kind\", \"Straight\", \"Flush\"]\n",
    "    rare_hands = [\"Full House\", \"Four of a Kind\", \"Straight Flush\"]\n",
    "    exotic_hands = [\"Royal Flush\", \"Flush Four\", \"Sandwich Hand\", \"Odd Straight\", \n",
    "                   \"Even Straight\", \"Skipping Straight\", \"Rainbow Straight\", \n",
    "                   \"Flush House\", \"Five of a Kind\", \"Flush Five\"]\n",
    "    \n",
    "    categories = {\n",
    "        \"Common\": sum(hand_frequency.get(hand, 0) for hand in common_hands),\n",
    "        \"Uncommon\": sum(hand_frequency.get(hand, 0) for hand in uncommon_hands),\n",
    "        \"Rare\": sum(hand_frequency.get(hand, 0) for hand in rare_hands),\n",
    "        \"Exotic\": sum(hand_frequency.get(hand, 0) for hand in exotic_hands)\n",
    "    }\n",
    "    \n",
    "    # Create donut chart\n",
    "    fig = go.Figure(data=[go.Pie(\n",
    "        labels=list(categories.keys()),\n",
    "        values=list(categories.values()),\n",
    "        hole=0.4,\n",
    "        marker_colors=px.colors.qualitative.Set3\n",
    "    )])\n",
    "    \n",
    "    fig.update_layout(\n",
    "        title=\"🃏 Hand Rarity Distribution\",\n",
    "        template=\"plotly_white\",\n",
    "        height=400\n",
    "    )\n",
    "    \n",
    "    # Add center text\n",
    "    total_hands = sum(categories.values())\n",
    "    exotic_pct = (categories[\"Exotic\"] / total_hands * 100) if total_hands > 0 else 0\n",
    "    \n",
    "    fig.add_annotation(\n",
    "        text=f\"Exotic Hands<br>{exotic_pct:.1f}%\",\n",
    "        x=0.5, y=0.5,\n",
    "        font_size=16,\n",
    "        showarrow=False\n",
    "    )\n",
    "    \n",
    "    return fig\n",
    "\n",
    "# Create and display hand rarity analysis\n",
    "print(\"🃏 ANALYZING HAND RARITY DISTRIBUTION\")\n",
    "print(\"-\" * 40)\n",
    "\n",
    "hand_rarity_chart = create_hand_rarity_analysis(tournament_data)\n",
    "hand_rarity_chart.show()\n",
    "\n",
    "print(\"✅ Hand rarity analysis displayed above!\")\n",
    "\n",
    "# Show detailed breakdown\n",
    "print(\"\\nDetailed Hand Frequency:\")\n",
    "for hand_type, count in sorted(tournament_data[\"hand_frequency\"].items(), \n",
    "                              key=lambda x: x[1], reverse=True):\n",
    "    percentage = (count / tournament_data[\"num_rounds\"]) * 100\n",
    "    print(f\"  {hand_type}: {count} times ({percentage:.1f}%)\")"
   ]
  },
  {
   "cell_type": "code",
   "execution_count": null,
   "id": "6e8091c4",
   "metadata": {},
   "outputs": [],
   "source": []
  }
 ],
 "metadata": {
  "kernelspec": {
   "display_name": "Python 3 (ipykernel)",
   "language": "python",
   "name": "python3"
  },
  "language_info": {
   "codemirror_mode": {
    "name": "ipython",
    "version": 3
   },
   "file_extension": ".py",
   "mimetype": "text/x-python",
   "name": "python",
   "nbconvert_exporter": "python",
   "pygments_lexer": "ipython3",
   "version": "3.13.7"
  }
 },
 "nbformat": 4,
 "nbformat_minor": 5
}
